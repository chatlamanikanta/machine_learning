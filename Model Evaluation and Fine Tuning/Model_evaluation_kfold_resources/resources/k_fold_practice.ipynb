{
 "cells": [
  {
   "cell_type": "code",
   "execution_count": 2,
   "id": "50b06ece-f418-4bb8-985e-16bedf39ffa8",
   "metadata": {},
   "outputs": [],
   "source": [
    "from sklearn.datasets import make_classification\n",
    "import numpy as np\n",
    "from sklearn.metrics import classification_report"
   ]
  },
  {
   "cell_type": "code",
   "execution_count": 3,
   "id": "278031bf-8911-4669-bc48-4c19bfa2b788",
   "metadata": {},
   "outputs": [],
   "source": [
    "X,y = make_classification(\n",
    "    n_features=10,\n",
    "    n_samples=1000,\n",
    "    n_classes=2,\n",
    "    n_informative=8,\n",
    "    n_redundant=2,\n",
    "    n_repeated=0,\n",
    "    random_state=42\n",
    ")"
   ]
  },
  {
   "cell_type": "markdown",
   "id": "41e0865a-3823-4353-945a-8dc02646eded",
   "metadata": {},
   "source": [
    "### Train a Logistic Regression Model\n",
    "##### Manually using KFold Cross Validation"
   ]
  },
  {
   "cell_type": "code",
   "execution_count": 16,
   "id": "b6ddda05-a14b-44f0-af76-34607bb01a7a",
   "metadata": {},
   "outputs": [
    {
     "name": "stdout",
     "output_type": "stream",
     "text": [
      "[0.675, 0.715, 0.72, 0.645, 0.72]\n",
      "Avearge Model's Accuracy is 0.695\n"
     ]
    }
   ],
   "source": [
    "from sklearn.model_selection import KFold\n",
    "from sklearn.linear_model import LogisticRegression\n",
    "\n",
    "lr = LogisticRegression()\n",
    "kf = KFold(n_splits=5,shuffle=True,random_state=42)\n",
    "scores = []\n",
    "\n",
    "for train_ind,test_ind in kf.split(X,y):\n",
    "    X_train,X_test = X[train_ind],X[test_ind]\n",
    "    y_train,y_test = y[train_ind],y[test_ind]\n",
    "\n",
    "    lr.fit(X_train,y_train)\n",
    "    scores.append(lr.score(X_test,y_test))\n",
    "print(scores)\n",
    "print(f\"Avearge Model's Accuracy is {np.mean(scores):.3f}\")"
   ]
  },
  {
   "cell_type": "markdown",
   "id": "77f7c1f8-1aa4-4235-9e7e-5c4941e1cb57",
   "metadata": {},
   "source": [
    "### Using KFold Cross Validation using cross_val_score"
   ]
  },
  {
   "cell_type": "code",
   "execution_count": 20,
   "id": "4675df70-e6d8-4367-a839-9d0b61d5cba9",
   "metadata": {},
   "outputs": [
    {
     "name": "stdout",
     "output_type": "stream",
     "text": [
      "Avearge Model's Accuracy is 0.695\n"
     ]
    }
   ],
   "source": [
    "from sklearn.model_selection import cross_val_score\n",
    "\n",
    "scores = cross_val_score(LogisticRegression(),X,y,cv=kf)\n",
    "print(f\"Avearge Model's Accuracy is {np.mean(scores):.3f}\")"
   ]
  },
  {
   "cell_type": "markdown",
   "id": "9c32e628-b3c4-46a4-a8ef-0a8ef04d38bd",
   "metadata": {},
   "source": [
    "### Training SVM model"
   ]
  },
  {
   "cell_type": "code",
   "execution_count": 21,
   "id": "dfa673df-4388-44f6-8fa5-da815c472290",
   "metadata": {},
   "outputs": [
    {
     "name": "stdout",
     "output_type": "stream",
     "text": [
      "Avearge Model's Accuracy is 0.909\n"
     ]
    }
   ],
   "source": [
    "from sklearn.svm import SVC\n",
    "\n",
    "scores = cross_val_score(SVC(),X,y,cv=kf)\n",
    "print(f\"Avearge Model's Accuracy is {np.mean(scores):.3f}\")"
   ]
  },
  {
   "cell_type": "markdown",
   "id": "69eb7cf6-0089-4e68-ada4-ffcfd2380036",
   "metadata": {},
   "source": [
    "### Training Decision Tree Classifier\n"
   ]
  },
  {
   "cell_type": "code",
   "execution_count": 24,
   "id": "31f69a8f-fc86-467a-89c7-8080d37a4fcc",
   "metadata": {},
   "outputs": [
    {
     "name": "stdout",
     "output_type": "stream",
     "text": [
      "Avearge Model's Accuracy is 0.788\n"
     ]
    }
   ],
   "source": [
    "from sklearn.tree import DecisionTreeClassifier\n",
    "\n",
    "scores = cross_val_score(DecisionTreeClassifier(),X,y,cv=kf)\n",
    "print(f\"Avearge Model's Accuracy is {np.mean(scores):.3f}\")"
   ]
  },
  {
   "cell_type": "code",
   "execution_count": 25,
   "id": "9e0bf14f-19ab-4f3b-928c-cbe8f29608ea",
   "metadata": {},
   "outputs": [
    {
     "name": "stdout",
     "output_type": "stream",
     "text": [
      "Avearge Model's Accuracy is 0.797\n"
     ]
    }
   ],
   "source": [
    "scores = cross_val_score(DecisionTreeClassifier(criterion=\"entropy\"),X,y,cv=kf)\n",
    "print(f\"Avearge Model's Accuracy is {np.mean(scores):.3f}\")"
   ]
  },
  {
   "cell_type": "markdown",
   "id": "10cc0d11-5952-46f4-8065-20e1aedf41ed",
   "metadata": {},
   "source": [
    "### Training RandomForest Classifier"
   ]
  },
  {
   "cell_type": "code",
   "execution_count": 37,
   "id": "5da5941d-9e77-437f-b0f0-9e54c2835dcb",
   "metadata": {},
   "outputs": [
    {
     "name": "stdout",
     "output_type": "stream",
     "text": [
      "Avearge Model's Accuracy is 0.898\n"
     ]
    }
   ],
   "source": [
    "from sklearn.ensemble import RandomForestClassifier\n",
    "\n",
    "scores = cross_val_score(RandomForestClassifier(n_estimators=74),X,y,cv=kf) # here by default scoring parameter is \"accuracy\"\n",
    "print(f\"Avearge Model's Accuracy is {np.mean(scores):.3f}\")"
   ]
  },
  {
   "cell_type": "markdown",
   "id": "0586d6c2-bab7-46cd-8033-03658d9bc02b",
   "metadata": {},
   "source": [
    "### Using Cross Validate to evaluate the model"
   ]
  },
  {
   "cell_type": "code",
   "execution_count": 39,
   "id": "7ac780b8-e99c-4f91-90fb-1068b5d97904",
   "metadata": {},
   "outputs": [
    {
     "data": {
      "text/plain": [
       "{'fit_time': array([0.43755865, 0.34976745, 0.34401202, 0.34386015, 0.33845115]),\n",
       " 'score_time': array([0.08747411, 0.01800537, 0.01909351, 0.02077937, 0.018255  ]),\n",
       " 'test_accuracy': array([0.87 , 0.915, 0.885, 0.875, 0.89 ]),\n",
       " 'test_roc_auc': array([0.93175432, 0.95058023, 0.96573629, 0.95522837, 0.96131072])}"
      ]
     },
     "execution_count": 39,
     "metadata": {},
     "output_type": "execute_result"
    }
   ],
   "source": [
    "from sklearn.model_selection import cross_validate\n",
    "\n",
    "cross_validate(RandomForestClassifier(n_estimators=74),X,y,cv=kf,scoring=[\"accuracy\",\"roc_auc\"])"
   ]
  },
  {
   "cell_type": "code",
   "execution_count": null,
   "id": "cbf1ab77-aac9-40f3-a452-a2d56c033cb1",
   "metadata": {},
   "outputs": [],
   "source": []
  }
 ],
 "metadata": {
  "kernelspec": {
   "display_name": "Python 3 (ipykernel)",
   "language": "python",
   "name": "python3"
  },
  "language_info": {
   "codemirror_mode": {
    "name": "ipython",
    "version": 3
   },
   "file_extension": ".py",
   "mimetype": "text/x-python",
   "name": "python",
   "nbconvert_exporter": "python",
   "pygments_lexer": "ipython3",
   "version": "3.12.7"
  }
 },
 "nbformat": 4,
 "nbformat_minor": 5
}
