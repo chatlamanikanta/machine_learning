{
 "cells": [
  {
   "cell_type": "code",
   "execution_count": 3,
   "id": "f971536f-16a5-497b-8f5b-7c51d4391267",
   "metadata": {},
   "outputs": [],
   "source": [
    "from sklearn.datasets import make_classification\n",
    "import numpy as np\n",
    "from sklearn.model_selection import train_test_split"
   ]
  },
  {
   "cell_type": "code",
   "execution_count": 6,
   "id": "83bdc4c6-cecd-4e27-968c-2307b1e31b47",
   "metadata": {},
   "outputs": [],
   "source": [
    "X,y = make_classification(\n",
    "    n_samples=1000,\n",
    "    n_classes=2,\n",
    "    n_features=10,\n",
    "    n_informative=8,\n",
    "    n_redundant=2,\n",
    "    n_repeated=0,\n",
    "    weights = [0.9, 0.1],\n",
    "    random_state=42\n",
    ")\n",
    "X_train, X_test, y_train, y_test = train_test_split(X, y, test_size=0.3, random_state=42)"
   ]
  },
  {
   "cell_type": "code",
   "execution_count": 7,
   "id": "895126cb-af93-4418-a1bf-aa6980109f0f",
   "metadata": {},
   "outputs": [
    {
     "data": {
      "text/plain": [
       "Counter({0: 897, 1: 103})"
      ]
     },
     "execution_count": 7,
     "metadata": {},
     "output_type": "execute_result"
    }
   ],
   "source": [
    "from collections import Counter\n",
    "Counter(y)"
   ]
  },
  {
   "cell_type": "code",
   "execution_count": 13,
   "id": "9cebb15b-8b54-4b93-b9e0-d0731ee81329",
   "metadata": {},
   "outputs": [
    {
     "name": "stdout",
     "output_type": "stream",
     "text": [
      "Counter({0: 177, 1: 23})\n",
      "Counter({0: 179, 1: 21})\n",
      "Counter({0: 183, 1: 17})\n",
      "Counter({0: 181, 1: 19})\n",
      "Counter({0: 177, 1: 23})\n",
      "0.897\n"
     ]
    }
   ],
   "source": [
    "from sklearn.model_selection import KFold\n",
    "from sklearn.linear_model import LogisticRegression\n",
    "\n",
    "lr = LogisticRegression()\n",
    "\n",
    "kf = KFold(n_splits=5,shuffle=True,random_state=42)\n",
    "scores = []\n",
    "for train_ind,test_ind in kf.split(X,y):\n",
    "    X_train,X_test = X[train_ind],X[test_ind]\n",
    "    y_train,y_test = y[train_ind],y[test_ind]\n",
    "    lr.fit(X_train,y_train)\n",
    "    print(Counter(y_test))\n",
    "    scores.append(lr.score(X_test,y_test))\n",
    "print(np.mean(scores))\n",
    "    "
   ]
  },
  {
   "cell_type": "code",
   "execution_count": 14,
   "id": "1f783811-29f1-4fb6-a434-5d58af63dffa",
   "metadata": {},
   "outputs": [
    {
     "name": "stdout",
     "output_type": "stream",
     "text": [
      "Counter({0: 180, 1: 20})\n",
      "Counter({0: 180, 1: 20})\n",
      "Counter({0: 179, 1: 21})\n",
      "Counter({0: 179, 1: 21})\n",
      "Counter({0: 179, 1: 21})\n",
      "0.9019999999999999\n"
     ]
    }
   ],
   "source": [
    "from sklearn.model_selection import StratifiedKFold\n",
    "\n",
    "skf = StratifiedKFold(n_splits=5,shuffle=True,random_state=42)\n",
    "lr = LogisticRegression()\n",
    "\n",
    "scores = []\n",
    "for train_ind,test_ind in skf.split(X,y):\n",
    "    X_train,X_test = X[train_ind],X[test_ind]\n",
    "    y_train,y_test = y[train_ind],y[test_ind]\n",
    "    lr.fit(X_train,y_train)\n",
    "    print(Counter(y_test))\n",
    "    scores.append(lr.score(X_test,y_test))\n",
    "print(np.mean(scores))"
   ]
  },
  {
   "cell_type": "markdown",
   "id": "cb95220f-4de9-4ace-9aef-c406f84f74e8",
   "metadata": {},
   "source": [
    "### Cross Validation on Logistic Regression"
   ]
  },
  {
   "cell_type": "code",
   "execution_count": 15,
   "id": "dd13421a-3b48-4af2-89e6-45716face93f",
   "metadata": {},
   "outputs": [
    {
     "data": {
      "text/plain": [
       "array([0.915, 0.91 , 0.895, 0.895, 0.895])"
      ]
     },
     "execution_count": 15,
     "metadata": {},
     "output_type": "execute_result"
    }
   ],
   "source": [
    "from sklearn.model_selection import cross_val_score\n",
    "\n",
    "cross_val_score(LogisticRegression(),X,y,cv=skf)"
   ]
  },
  {
   "cell_type": "markdown",
   "id": "b0633c78-cd04-4237-80d8-3e4854a138a0",
   "metadata": {},
   "source": [
    "### Cross Validation on Decision Tree"
   ]
  },
  {
   "cell_type": "code",
   "execution_count": 16,
   "id": "114aaf9a-1587-4b55-b570-607b698ff2be",
   "metadata": {},
   "outputs": [
    {
     "data": {
      "text/plain": [
       "array([0.9  , 0.915, 0.89 , 0.85 , 0.9  ])"
      ]
     },
     "execution_count": 16,
     "metadata": {},
     "output_type": "execute_result"
    }
   ],
   "source": [
    "from sklearn.tree import DecisionTreeClassifier\n",
    "\n",
    "cross_val_score(DecisionTreeClassifier(),X,y,cv=skf)"
   ]
  },
  {
   "cell_type": "markdown",
   "id": "efabf31e-2abd-46fc-b104-b18e58bc06af",
   "metadata": {},
   "source": [
    "### Cross Validation on RandomForest Classifier"
   ]
  },
  {
   "cell_type": "code",
   "execution_count": 18,
   "id": "0df9126c-7ea6-416d-bb47-e79e4a82c4f5",
   "metadata": {},
   "outputs": [
    {
     "data": {
      "text/plain": [
       "array([0.92 , 0.915, 0.915, 0.91 , 0.92 ])"
      ]
     },
     "execution_count": 18,
     "metadata": {},
     "output_type": "execute_result"
    }
   ],
   "source": [
    "from sklearn.ensemble import RandomForestClassifier\n",
    "\n",
    "cross_val_score(RandomForestClassifier(n_estimators=50),X,y,cv=skf)"
   ]
  },
  {
   "cell_type": "markdown",
   "id": "d6657aab-e1de-4e0b-87a0-19b87589ab04",
   "metadata": {},
   "source": [
    "### Cross Validation on XGBoost"
   ]
  },
  {
   "cell_type": "code",
   "execution_count": 20,
   "id": "da4fa010-34a9-4e10-8cd4-f02a089ccf20",
   "metadata": {},
   "outputs": [
    {
     "data": {
      "text/plain": [
       "array([0.93 , 0.915, 0.935, 0.92 , 0.92 ])"
      ]
     },
     "execution_count": 20,
     "metadata": {},
     "output_type": "execute_result"
    }
   ],
   "source": [
    "from xgboost import XGBClassifier\n",
    "\n",
    "cross_val_score(XGBClassifier(n_estimators=50),X,y,cv=skf)"
   ]
  },
  {
   "cell_type": "code",
   "execution_count": null,
   "id": "bd1903dc-4233-45b4-ba78-09877b21c591",
   "metadata": {},
   "outputs": [],
   "source": []
  }
 ],
 "metadata": {
  "kernelspec": {
   "display_name": "Python 3 (ipykernel)",
   "language": "python",
   "name": "python3"
  },
  "language_info": {
   "codemirror_mode": {
    "name": "ipython",
    "version": 3
   },
   "file_extension": ".py",
   "mimetype": "text/x-python",
   "name": "python",
   "nbconvert_exporter": "python",
   "pygments_lexer": "ipython3",
   "version": "3.12.7"
  }
 },
 "nbformat": 4,
 "nbformat_minor": 5
}
