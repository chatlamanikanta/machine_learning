{
 "cells": [
  {
   "cell_type": "code",
   "execution_count": 1,
   "id": "c75dc2ea-48b3-4bbb-ad82-f3f09f5da7d4",
   "metadata": {},
   "outputs": [],
   "source": [
    "from sklearn.datasets import make_classification\n",
    "from sklearn.metrics import classification_report\n",
    "from sklearn.model_selection import train_test_split"
   ]
  },
  {
   "cell_type": "code",
   "execution_count": 2,
   "id": "905cc24e-5644-403c-bc69-595171bb51fb",
   "metadata": {},
   "outputs": [],
   "source": [
    "X,y = make_classification(\n",
    "    n_samples=10000,\n",
    "    n_features=10,\n",
    "    n_informative=6,\n",
    "    n_redundant=4,\n",
    "    n_classes=3,\n",
    "    n_repeated=0,\n",
    "    random_state=42\n",
    ")\n"
   ]
  },
  {
   "cell_type": "code",
   "execution_count": 3,
   "id": "2ac80ca5-afe3-4bf9-87fa-14b1a3b9006a",
   "metadata": {},
   "outputs": [
    {
     "data": {
      "text/plain": [
       "(10000, 10)"
      ]
     },
     "execution_count": 3,
     "metadata": {},
     "output_type": "execute_result"
    }
   ],
   "source": [
    "X.shape"
   ]
  },
  {
   "cell_type": "code",
   "execution_count": 4,
   "id": "cb9a3af0-6b8c-4bf7-a974-6431e8fb723e",
   "metadata": {},
   "outputs": [
    {
     "data": {
      "text/plain": [
       "(10000,)"
      ]
     },
     "execution_count": 4,
     "metadata": {},
     "output_type": "execute_result"
    }
   ],
   "source": [
    "y.shape"
   ]
  },
  {
   "cell_type": "code",
   "execution_count": 5,
   "id": "6f26fd1d-4fd4-4ade-8c8f-9794c3e5651d",
   "metadata": {},
   "outputs": [],
   "source": [
    "X_train, X_test, y_train, y_test = train_test_split(X, y, test_size=0.2, random_state=10)"
   ]
  },
  {
   "cell_type": "markdown",
   "id": "3d556493-baf0-49e7-8434-9e4706bd74f2",
   "metadata": {},
   "source": [
    "### Training LogisticRegression Model"
   ]
  },
  {
   "cell_type": "code",
   "execution_count": 10,
   "id": "c9d404a0-8d01-40d6-baf6-396556f27944",
   "metadata": {},
   "outputs": [
    {
     "name": "stdout",
     "output_type": "stream",
     "text": [
      "              precision    recall  f1-score   support\n",
      "\n",
      "           0       0.69      0.69      0.69       676\n",
      "           1       0.69      0.67      0.68       686\n",
      "           2       0.70      0.71      0.70       638\n",
      "\n",
      "    accuracy                           0.69      2000\n",
      "   macro avg       0.69      0.69      0.69      2000\n",
      "weighted avg       0.69      0.69      0.69      2000\n",
      "\n",
      "Time Taken: 0.054224491119384766\n"
     ]
    }
   ],
   "source": [
    "from sklearn.linear_model import LogisticRegression\n",
    "import time\n",
    "\n",
    "start = time.time()\n",
    "model = LogisticRegression()\n",
    "model.fit(X_train,y_train)\n",
    "stop = time.time()\n",
    "y_pred = model.predict(X_test)\n",
    "cr = classification_report(y_test,y_pred)\n",
    "print(cr)\n",
    "print(f\"Time Taken: {stop-start}\")"
   ]
  },
  {
   "cell_type": "markdown",
   "id": "83cd814c-de0f-483f-ba22-97cdf97e6e25",
   "metadata": {},
   "source": [
    "### Training Gradient Boost Model"
   ]
  },
  {
   "cell_type": "code",
   "execution_count": 11,
   "id": "dff4e447-58ff-490e-9b16-50029ecd43bc",
   "metadata": {},
   "outputs": [
    {
     "name": "stdout",
     "output_type": "stream",
     "text": [
      "              precision    recall  f1-score   support\n",
      "\n",
      "           0       0.86      0.83      0.84       676\n",
      "           1       0.84      0.89      0.87       686\n",
      "           2       0.85      0.84      0.85       638\n",
      "\n",
      "    accuracy                           0.85      2000\n",
      "   macro avg       0.85      0.85      0.85      2000\n",
      "weighted avg       0.85      0.85      0.85      2000\n",
      "\n",
      "Time Taken: 17.85110068321228\n"
     ]
    }
   ],
   "source": [
    "from sklearn.ensemble import GradientBoostingClassifier\n",
    "\n",
    "start = time.time()\n",
    "model = GradientBoostingClassifier()\n",
    "model.fit(X_train,y_train)\n",
    "stop = time.time()\n",
    "y_pred = model.predict(X_test)\n",
    "cr = classification_report(y_test,y_pred)\n",
    "print(cr)\n",
    "print(f\"Time Taken: {stop-start}\")"
   ]
  },
  {
   "cell_type": "markdown",
   "id": "fc963817-7db4-48a9-a8c2-e91f8f7896a9",
   "metadata": {},
   "source": [
    "### Training XGBClassifier"
   ]
  },
  {
   "cell_type": "code",
   "execution_count": 12,
   "id": "50dc5101-e016-4b50-8b5f-c881bb4f85d2",
   "metadata": {},
   "outputs": [
    {
     "name": "stdout",
     "output_type": "stream",
     "text": [
      "              precision    recall  f1-score   support\n",
      "\n",
      "           0       0.90      0.89      0.89       676\n",
      "           1       0.90      0.93      0.91       686\n",
      "           2       0.91      0.90      0.90       638\n",
      "\n",
      "    accuracy                           0.90      2000\n",
      "   macro avg       0.90      0.90      0.90      2000\n",
      "weighted avg       0.90      0.90      0.90      2000\n",
      "\n",
      "Time Taken: 1.939014196395874\n"
     ]
    }
   ],
   "source": [
    "from xgboost import XGBClassifier\n",
    "\n",
    "start = time.time()\n",
    "model = XGBClassifier()\n",
    "model.fit(X_train,y_train)\n",
    "stop = time.time()\n",
    "y_pred = model.predict(X_test)\n",
    "cr = classification_report(y_test,y_pred)\n",
    "print(cr)\n",
    "print(f\"Time Taken: {stop-start}\")"
   ]
  },
  {
   "cell_type": "code",
   "execution_count": null,
   "id": "e7140ae3-f032-42e4-afaf-4c7a5e8d32c2",
   "metadata": {},
   "outputs": [],
   "source": []
  }
 ],
 "metadata": {
  "kernelspec": {
   "display_name": "Python 3 (ipykernel)",
   "language": "python",
   "name": "python3"
  },
  "language_info": {
   "codemirror_mode": {
    "name": "ipython",
    "version": 3
   },
   "file_extension": ".py",
   "mimetype": "text/x-python",
   "name": "python",
   "nbconvert_exporter": "python",
   "pygments_lexer": "ipython3",
   "version": "3.12.7"
  }
 },
 "nbformat": 4,
 "nbformat_minor": 5
}
