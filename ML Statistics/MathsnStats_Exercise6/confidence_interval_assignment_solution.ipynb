{
 "cells": [
  {
   "cell_type": "markdown",
   "id": "fe1f7b86",
   "metadata": {},
   "source": [
    "## Problem Statement\n",
    "\n",
    "You are a data scientist at a retail consulting firm. You have been provided with a dataset named **\"retail_store_sales_data.csv\"**, which includes detailed records of daily sales for a retail store over a two-year period. The dataset comprises the following columns:\n",
    "\n",
    "- **date:** The specific date for each sales record.\n",
    "- **day_of_week:** The day of the week corresponding to each date.\n",
    "- **sales_amount (usd):** : The total sales amount in USD recorded on each day."
   ]
  },
  {
   "cell_type": "code",
   "execution_count": null,
   "id": "7c26a33d",
   "metadata": {},
   "outputs": [],
   "source": []
  },
  {
   "cell_type": "markdown",
   "id": "6e33ad8f",
   "metadata": {},
   "source": [
    "**Import Necessary Libraries**"
   ]
  },
  {
   "cell_type": "code",
   "execution_count": 1,
   "id": "08ab1fe5",
   "metadata": {},
   "outputs": [],
   "source": [
    "import pandas as pd\n",
    "from matplotlib import pyplot as plt\n",
    "import seaborn as sns\n",
    "import scipy.stats as st\n",
    "import numpy as np"
   ]
  },
  {
   "cell_type": "markdown",
   "id": "90c7c849",
   "metadata": {},
   "source": [
    "### Task1: Data Import\n",
    "\n",
    "1. Import the data from the \"retail_store_sales_data.csv\" file.\n",
    "2. display the number of rows and columns. \n",
    "3. Display the first few rows of the dataset to get an overview.\n"
   ]
  },
  {
   "cell_type": "code",
   "execution_count": 2,
   "id": "e4172f2c",
   "metadata": {},
   "outputs": [
    {
     "name": "stdout",
     "output_type": "stream",
     "text": [
      "(731, 3)\n"
     ]
    },
    {
     "data": {
      "text/html": [
       "<div>\n",
       "<style scoped>\n",
       "    .dataframe tbody tr th:only-of-type {\n",
       "        vertical-align: middle;\n",
       "    }\n",
       "\n",
       "    .dataframe tbody tr th {\n",
       "        vertical-align: top;\n",
       "    }\n",
       "\n",
       "    .dataframe thead th {\n",
       "        text-align: right;\n",
       "    }\n",
       "</style>\n",
       "<table border=\"1\" class=\"dataframe\">\n",
       "  <thead>\n",
       "    <tr style=\"text-align: right;\">\n",
       "      <th></th>\n",
       "      <th>date</th>\n",
       "      <th>day_of_week</th>\n",
       "      <th>sales_amount (usd)</th>\n",
       "    </tr>\n",
       "  </thead>\n",
       "  <tbody>\n",
       "    <tr>\n",
       "      <th>0</th>\n",
       "      <td>01-01-2020</td>\n",
       "      <td>Wednesday</td>\n",
       "      <td>1212</td>\n",
       "    </tr>\n",
       "    <tr>\n",
       "      <th>1</th>\n",
       "      <td>02-01-2020</td>\n",
       "      <td>Thursday</td>\n",
       "      <td>1261</td>\n",
       "    </tr>\n",
       "    <tr>\n",
       "      <th>2</th>\n",
       "      <td>03-01-2020</td>\n",
       "      <td>Friday</td>\n",
       "      <td>596</td>\n",
       "    </tr>\n",
       "    <tr>\n",
       "      <th>3</th>\n",
       "      <td>04-01-2020</td>\n",
       "      <td>Saturday</td>\n",
       "      <td>696</td>\n",
       "    </tr>\n",
       "    <tr>\n",
       "      <th>4</th>\n",
       "      <td>05-01-2020</td>\n",
       "      <td>Sunday</td>\n",
       "      <td>1434</td>\n",
       "    </tr>\n",
       "  </tbody>\n",
       "</table>\n",
       "</div>"
      ],
      "text/plain": [
       "         date day_of_week  sales_amount (usd)\n",
       "0  01-01-2020   Wednesday                1212\n",
       "1  02-01-2020    Thursday                1261\n",
       "2  03-01-2020      Friday                 596\n",
       "3  04-01-2020    Saturday                 696\n",
       "4  05-01-2020      Sunday                1434"
      ]
     },
     "execution_count": 2,
     "metadata": {},
     "output_type": "execute_result"
    }
   ],
   "source": [
    "df = pd.read_csv(\"retail_store_sales_data.csv\")\n",
    "print(df.shape)\n",
    "df.head()"
   ]
  },
  {
   "cell_type": "markdown",
   "id": "8289c6ae",
   "metadata": {},
   "source": [
    "### Task2: Histogram Plot of Sales Amounts\n",
    "\n",
    "1. Create the histogram plot for the 'sales_amount (usd)' column"
   ]
  },
  {
   "cell_type": "code",
   "execution_count": 3,
   "id": "4414a52a",
   "metadata": {},
   "outputs": [
    {
     "data": {
      "text/plain": [
       "<Axes: xlabel='sales_amount (usd)', ylabel='Count'>"
      ]
     },
     "execution_count": 3,
     "metadata": {},
     "output_type": "execute_result"
    },
    {
     "data": {
      "image/png": "[encoded data removed]",
      "text/plain": [
       "<Figure size 640x480 with 1 Axes>"
      ]
     },
     "metadata": {},
     "output_type": "display_data"
    }
   ],
   "source": [
    "#plot the histogram plot\n",
    "\n",
    "sns.histplot(df['sales_amount (usd)'], kde=True)"
   ]
  },
  {
   "cell_type": "markdown",
   "id": "b71ab51f",
   "metadata": {},
   "source": [
    "### Task 3: Computing Population Standard Deviation\n",
    "\n",
    "- **Determine Standard Deviation:** Calculate the population standard deviation for the 'Sales_Amount (usd)' column. This is helpful in the accurate creation of confidence intervals in subsequent analyses."
   ]
  },
  {
   "cell_type": "code",
   "execution_count": 4,
   "id": "100e82e3",
   "metadata": {},
   "outputs": [
    {
     "name": "stdout",
     "output_type": "stream",
     "text": [
      "Standatd Deviation:  345\n"
     ]
    }
   ],
   "source": [
    "std_dev_population = round(df['sales_amount (usd)'].std())\n",
    "\n",
    "print(\"Standatd Deviation: \", std_dev_population)"
   ]
  },
  {
   "cell_type": "markdown",
   "id": "e195bb10",
   "metadata": {},
   "source": [
    "### Task4: Create Sample Data\n",
    "\n",
    "- Create a sample dataset consisting of 100 data points from the 'Sales_Amount (usd)' column.\n",
    "- Calculate the mean for this sample. \n"
   ]
  },
  {
   "cell_type": "code",
   "execution_count": 5,
   "id": "692e62a5",
   "metadata": {},
   "outputs": [
    {
     "data": {
      "text/html": [
       "<div>\n",
       "<style scoped>\n",
       "    .dataframe tbody tr th:only-of-type {\n",
       "        vertical-align: middle;\n",
       "    }\n",
       "\n",
       "    .dataframe tbody tr th {\n",
       "        vertical-align: top;\n",
       "    }\n",
       "\n",
       "    .dataframe thead th {\n",
       "        text-align: right;\n",
       "    }\n",
       "</style>\n",
       "<table border=\"1\" class=\"dataframe\">\n",
       "  <thead>\n",
       "    <tr style=\"text-align: right;\">\n",
       "      <th></th>\n",
       "      <th>date</th>\n",
       "      <th>day_of_week</th>\n",
       "      <th>sales_amount (usd)</th>\n",
       "    </tr>\n",
       "  </thead>\n",
       "  <tbody>\n",
       "    <tr>\n",
       "      <th>184</th>\n",
       "      <td>03-07-2020</td>\n",
       "      <td>Friday</td>\n",
       "      <td>846</td>\n",
       "    </tr>\n",
       "    <tr>\n",
       "      <th>535</th>\n",
       "      <td>19-06-2021</td>\n",
       "      <td>Saturday</td>\n",
       "      <td>970</td>\n",
       "    </tr>\n",
       "    <tr>\n",
       "      <th>299</th>\n",
       "      <td>26-10-2020</td>\n",
       "      <td>Monday</td>\n",
       "      <td>925</td>\n",
       "    </tr>\n",
       "    <tr>\n",
       "      <th>221</th>\n",
       "      <td>09-08-2020</td>\n",
       "      <td>Sunday</td>\n",
       "      <td>709</td>\n",
       "    </tr>\n",
       "    <tr>\n",
       "      <th>152</th>\n",
       "      <td>01-06-2020</td>\n",
       "      <td>Monday</td>\n",
       "      <td>1163</td>\n",
       "    </tr>\n",
       "  </tbody>\n",
       "</table>\n",
       "</div>"
      ],
      "text/plain": [
       "           date day_of_week  sales_amount (usd)\n",
       "184  03-07-2020      Friday                 846\n",
       "535  19-06-2021    Saturday                 970\n",
       "299  26-10-2020      Monday                 925\n",
       "221  09-08-2020      Sunday                 709\n",
       "152  01-06-2020      Monday                1163"
      ]
     },
     "execution_count": 5,
     "metadata": {},
     "output_type": "execute_result"
    }
   ],
   "source": [
    "#def sample size\n",
    "SAMPLE_SIZE = 100\n",
    "\n",
    "#get the sample dataframe\n",
    "sample = df.sample(SAMPLE_SIZE, random_state=100)\n",
    "\n",
    "sample.head()"
   ]
  },
  {
   "cell_type": "code",
   "execution_count": 6,
   "id": "ccd03dc6",
   "metadata": {},
   "outputs": [
    {
     "data": {
      "text/plain": [
       "987.67"
      ]
     },
     "execution_count": 6,
     "metadata": {},
     "output_type": "execute_result"
    }
   ],
   "source": [
    "#calculate the mean\n",
    "\n",
    "mean_sample = sample['sales_amount (usd)'].mean()\n",
    "\n",
    "mean_sample"
   ]
  },
  {
   "cell_type": "markdown",
   "id": "e01aef31",
   "metadata": {},
   "source": [
    "### Task 5: Estimating Population Mean at Various Confidence Levels\n",
    "\n",
    "Confidence Interval Calculations: Using the sample data, estimate the population mean for 'Sales_Amount (usd)' at different confidence levels. Specifically, calculate the confidence intervals for the population mean at the following levels:\n",
    "\n",
    "    - 60% Confidence Level\n",
    "    - 82% Confidence Level\n",
    "    - 98% Confidence Level"
   ]
  },
  {
   "cell_type": "markdown",
   "id": "1b9e2c27",
   "metadata": {},
   "source": [
    "- **60% Confidence Level**"
   ]
  },
  {
   "cell_type": "code",
   "execution_count": 8,
   "id": "1a45dcf9",
   "metadata": {},
   "outputs": [
    {
     "name": "stdout",
     "output_type": "stream",
     "text": [
      "60% confidence intervals - lower: 958.6340674417344, upper: 1016.7059325582655\n",
      "0.8 0.8416212335729143\n"
     ]
    }
   ],
   "source": [
    "#1. 60% Confidence Level\n",
    "\n",
    "#get the z-score values\n",
    "final_probability = 0.60 + ((1-0.60) / 2)     \n",
    "z_score_60_confidence = st.norm.ppf(final_probability)\n",
    "\n",
    "#calculate margin of error:\n",
    "margin_of_error = z_score_60_confidence*(std_dev_population/np.sqrt(SAMPLE_SIZE))\n",
    "\n",
    "#calculate the intervals\n",
    "lower = mean_sample - margin_of_error\n",
    "upper = mean_sample + margin_of_error\n",
    "\n",
    "print(f\"60% confidence intervals - lower: {lower}, upper: {upper}\")\n",
    "print(final_probability,z_score_60_confidence)"
   ]
  },
  {
   "cell_type": "markdown",
   "id": "e8014b5e",
   "metadata": {},
   "source": [
    "- **82% Confidence Level**"
   ]
  },
  {
   "cell_type": "code",
   "execution_count": 9,
   "id": "af3cb4a4",
   "metadata": {},
   "outputs": [
    {
     "name": "stdout",
     "output_type": "stream",
     "text": [
      "82% confidence intervals - lower: 941.4139513376875, upper: 1033.9260486623125\n",
      "0.9099999999999999\n"
     ]
    }
   ],
   "source": [
    "#2. 82% Confidence Level\n",
    "\n",
    "#get the z-score values\n",
    "final_probability = 0.82 + ((1-0.82) / 2)  \n",
    "z_score_82_confidence = st.norm.ppf(final_probability) \n",
    "\n",
    "#calculate margin of error:\n",
    "margin_of_error = z_score_82_confidence*(std_dev_population/np.sqrt(SAMPLE_SIZE))\n",
    "\n",
    "#calculate the intervals\n",
    "lower = mean_sample - margin_of_error\n",
    "upper = mean_sample + margin_of_error\n",
    "\n",
    "print(f\"82% confidence intervals - lower: {lower}, upper: {upper}\")\n",
    "print(final_probability)"
   ]
  },
  {
   "cell_type": "markdown",
   "id": "5ae0741f",
   "metadata": {},
   "source": [
    "- **98% Confidence Level**"
   ]
  },
  {
   "cell_type": "code",
   "execution_count": 17,
   "id": "c9cb8bb5",
   "metadata": {},
   "outputs": [
    {
     "name": "stdout",
     "output_type": "stream",
     "text": [
      "98% confidence intervals - lower: 907.410998345591, upper: 1067.929001654409\n"
     ]
    }
   ],
   "source": [
    "#3. 98% Confidence Level\n",
    "\n",
    "#get the z-score values\n",
    "final_probability = 0.98 + ((1-0.98) / 2)  \n",
    "z_score_98_confidence = st.norm.ppf(final_probability) #0.98 [98% confidence level] \n",
    "\n",
    "#calculate margin of error:\n",
    "margin_of_error = z_score_98_confidence*(std_dev_population/np.sqrt(SAMPLE_SIZE))\n",
    "\n",
    "#calculate the intervals\n",
    "lower = mean_sample - margin_of_error\n",
    "upper = mean_sample + margin_of_error\n",
    "\n",
    "print(f\"98% confidence intervals - lower: {lower}, upper: {upper}\")"
   ]
  }
 ],
 "metadata": {
  "kernelspec": {
   "display_name": "Python 3 (ipykernel)",
   "language": "python",
   "name": "python3"
  },
  "language_info": {
   "codemirror_mode": {
    "name": "ipython",
    "version": 3
   },
   "file_extension": ".py",
   "mimetype": "text/x-python",
   "name": "python",
   "nbconvert_exporter": "python",
   "pygments_lexer": "ipython3",
   "version": "3.12.7"
  }
 },
 "nbformat": 4,
 "nbformat_minor": 5
}
