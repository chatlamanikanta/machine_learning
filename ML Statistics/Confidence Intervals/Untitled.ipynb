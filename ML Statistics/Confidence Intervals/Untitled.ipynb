{
 "cells": [
  {
   "cell_type": "code",
   "execution_count": 40,
   "id": "10ba8c5b-3bab-4e80-b300-1e49898f2e16",
   "metadata": {},
   "outputs": [],
   "source": [
    "import pandas as pd\n",
    "import scipy.stats as st\n",
    "import numpy as np"
   ]
  },
  {
   "cell_type": "code",
   "execution_count": 20,
   "id": "6f7d5ee3-bbbe-4efa-806d-07aaf0ea68eb",
   "metadata": {},
   "outputs": [
    {
     "data": {
      "text/html": [
       "<div>\n",
       "<style scoped>\n",
       "    .dataframe tbody tr th:only-of-type {\n",
       "        vertical-align: middle;\n",
       "    }\n",
       "\n",
       "    .dataframe tbody tr th {\n",
       "        vertical-align: top;\n",
       "    }\n",
       "\n",
       "    .dataframe thead th {\n",
       "        text-align: right;\n",
       "    }\n",
       "</style>\n",
       "<table border=\"1\" class=\"dataframe\">\n",
       "  <thead>\n",
       "    <tr style=\"text-align: right;\">\n",
       "      <th></th>\n",
       "      <th>StudentID</th>\n",
       "      <th>Name</th>\n",
       "      <th>Gender</th>\n",
       "      <th>Age</th>\n",
       "      <th>MathScore</th>\n",
       "      <th>ScienceScore</th>\n",
       "      <th>PassedScience</th>\n",
       "    </tr>\n",
       "  </thead>\n",
       "  <tbody>\n",
       "    <tr>\n",
       "      <th>0</th>\n",
       "      <td>1</td>\n",
       "      <td>Student_1</td>\n",
       "      <td>M</td>\n",
       "      <td>17</td>\n",
       "      <td>70.87</td>\n",
       "      <td>72.16</td>\n",
       "      <td>1</td>\n",
       "    </tr>\n",
       "    <tr>\n",
       "      <th>1</th>\n",
       "      <td>2</td>\n",
       "      <td>Student_2</td>\n",
       "      <td>F</td>\n",
       "      <td>16</td>\n",
       "      <td>67.01</td>\n",
       "      <td>89.44</td>\n",
       "      <td>1</td>\n",
       "    </tr>\n",
       "    <tr>\n",
       "      <th>2</th>\n",
       "      <td>3</td>\n",
       "      <td>Student_3</td>\n",
       "      <td>M</td>\n",
       "      <td>16</td>\n",
       "      <td>70.92</td>\n",
       "      <td>68.82</td>\n",
       "      <td>1</td>\n",
       "    </tr>\n",
       "    <tr>\n",
       "      <th>3</th>\n",
       "      <td>4</td>\n",
       "      <td>Student_4</td>\n",
       "      <td>M</td>\n",
       "      <td>18</td>\n",
       "      <td>50.12</td>\n",
       "      <td>104.64</td>\n",
       "      <td>1</td>\n",
       "    </tr>\n",
       "    <tr>\n",
       "      <th>4</th>\n",
       "      <td>5</td>\n",
       "      <td>Student_5</td>\n",
       "      <td>M</td>\n",
       "      <td>16</td>\n",
       "      <td>67.80</td>\n",
       "      <td>79.51</td>\n",
       "      <td>1</td>\n",
       "    </tr>\n",
       "  </tbody>\n",
       "</table>\n",
       "</div>"
      ],
      "text/plain": [
       "   StudentID       Name Gender  Age  MathScore  ScienceScore  PassedScience\n",
       "0          1  Student_1      M   17      70.87         72.16              1\n",
       "1          2  Student_2      F   16      67.01         89.44              1\n",
       "2          3  Student_3      M   16      70.92         68.82              1\n",
       "3          4  Student_4      M   18      50.12        104.64              1\n",
       "4          5  Student_5      M   16      67.80         79.51              1"
      ]
     },
     "execution_count": 20,
     "metadata": {},
     "output_type": "execute_result"
    }
   ],
   "source": [
    "df=pd.read_csv(\"students_scores.csv\")\n",
    "df.shape\n",
    "df.head()"
   ]
  },
  {
   "cell_type": "code",
   "execution_count": 39,
   "id": "b27d3e64-7768-4b4b-b4d3-ec76d892e818",
   "metadata": {},
   "outputs": [],
   "source": [
    "math_avg=round(df[\"MathScore\"].mean(),2)\n",
    "sci_avg=round(df[\"ScienceScore\"].mean(),2)\n",
    "math_std=round(df[\"MathScore\"].std(),2)\n",
    "sci_std=round(df[\"ScienceScore\"].std(),2)"
   ]
  },
  {
   "cell_type": "code",
   "execution_count": 28,
   "id": "7c0513a8-22d9-4d63-81a1-31987d43722e",
   "metadata": {},
   "outputs": [
    {
     "data": {
      "text/plain": [
       "(69.99, 72.44)"
      ]
     },
     "execution_count": 28,
     "metadata": {},
     "output_type": "execute_result"
    }
   ],
   "source": [
    "math_avg,sci_avg"
   ]
  },
  {
   "cell_type": "code",
   "execution_count": 52,
   "id": "905cb638-09fb-4397-9839-39848c3e9cf5",
   "metadata": {},
   "outputs": [],
   "source": [
    "SAMPLE_SIZE=40\n",
    "\n",
    "sample_data=df.sample(SAMPLE_SIZE,random_state=100)\n",
    "sample_mean_math=sample_data[\"MathScore\"].mean()\n",
    "sample_mean_sci=sample_data[\"ScienceScore\"].mean()"
   ]
  },
  {
   "cell_type": "code",
   "execution_count": 53,
   "id": "0610422a-f048-49ab-bc62-60bdd48c42c0",
   "metadata": {},
   "outputs": [
    {
     "data": {
      "text/plain": [
       "0.99"
      ]
     },
     "execution_count": 53,
     "metadata": {},
     "output_type": "execute_result"
    }
   ],
   "source": [
    "final_prob_98=0.98+((1-0.98)/2)\n",
    "final_prob_98"
   ]
  },
  {
   "cell_type": "code",
   "execution_count": 54,
   "id": "61a3a766-a2fe-4715-a37c-f149949fd12e",
   "metadata": {},
   "outputs": [
    {
     "name": "stdout",
     "output_type": "stream",
     "text": [
      "Math confidence intervals lower : 67.38 & upper : 74.09\n"
     ]
    }
   ],
   "source": [
    "z_score_98=st.norm.ppf(final_prob_98)\n",
    "std_error_98_math=math_std/np.sqrt(SAMPLE_SIZE)\n",
    "\n",
    "moe_math=z_score_98*std_error_98_math\n",
    "lower_math=sample_mean_math-moe_math\n",
    "upper_math=sample_mean_math+moe_math\n",
    "\n",
    "print(f\"Math confidence intervals lower : {lower_math:.2f} & upper : {upper_math:.2f}\")"
   ]
  },
  {
   "cell_type": "code",
   "execution_count": 55,
   "id": "2d44addb-8c8e-4fb0-ba67-5fd7e2d14952",
   "metadata": {},
   "outputs": [
    {
     "name": "stdout",
     "output_type": "stream",
     "text": [
      "Science confidence intervals lower : 65.89 & upper : 75.58\n"
     ]
    }
   ],
   "source": [
    "std_error_98_sci=sci_std/np.sqrt(SAMPLE_SIZE)\n",
    "moe_sci=z_score_98*std_error_98_sci\n",
    "lower_sci=sample_mean_math-moe_sci\n",
    "upper_sci=sample_mean_math+moe_sci\n",
    "\n",
    "print(f\"Science confidence intervals lower : {lower_sci:.2f} & upper : {upper_sci:.2f}\")"
   ]
  },
  {
   "cell_type": "code",
   "execution_count": 56,
   "id": "8dc39e54-ba87-4b34-a589-96f1045a365c",
   "metadata": {},
   "outputs": [
    {
     "name": "stdout",
     "output_type": "stream",
     "text": [
      "Science 99% confidence intervals lower : 66.60 & upper : 77.32\n"
     ]
    }
   ],
   "source": [
    "prob_99=0.99+((1-0.99)/2)\n",
    "z_score_99=st.norm.ppf(prob_99)\n",
    "std_sci_99=sci_std/np.sqrt(SAMPLE_SIZE)\n",
    "moe_sci_99=z_score_99*std_sci_99\n",
    "\n",
    "lower_sci_99=sample_mean_sci-moe_sci_99\n",
    "upper_sci_99=sample_mean_sci+moe_sci_99\n",
    "\n",
    "print(f\"Science 99% confidence intervals lower : {lower_sci_99:.2f} & upper : {upper_sci_99:.2f}\")"
   ]
  },
  {
   "cell_type": "code",
   "execution_count": 75,
   "id": "2dac16ef-5fdf-4b4e-aec7-3d76530f2a9f",
   "metadata": {},
   "outputs": [],
   "source": [
    "sci_pass=sample_data[sample_data[\"ScienceScore\"]>=50]\n",
    "mean_sci_pass=round(sci_pass[\"ScienceScore\"].mean(),2)\n",
    "smpl_sci_pass=round(sci_pass[\"ScienceScore\"].std(),2)"
   ]
  },
  {
   "cell_type": "code",
   "execution_count": 71,
   "id": "f54f0f3b-1ca0-44d3-8a7b-fa16b871dc43",
   "metadata": {},
   "outputs": [
    {
     "data": {
      "text/plain": [
       "72.96"
      ]
     },
     "execution_count": 71,
     "metadata": {},
     "output_type": "execute_result"
    }
   ],
   "source": [
    "mean_sci_pass"
   ]
  },
  {
   "cell_type": "code",
   "execution_count": 76,
   "id": "72fcb2cb-6946-4967-a882-8fc2cbc313aa",
   "metadata": {},
   "outputs": [
    {
     "name": "stdout",
     "output_type": "stream",
     "text": [
      "Science passed 98% confidence intervals lower : 67.76 & upper : 78.16\n"
     ]
    }
   ],
   "source": [
    "prob_pass=0.98+((1-0.98)/2)\n",
    "z_score_sci_pass=st.norm.ppf(prob_pass)\n",
    "sterror_sci_pass=smpl_sci_pass/np.sqrt(len(sci_pass))\n",
    "\n",
    "moe_sci_pass=z_score_sci_pass*sterror_sci_pass\n",
    "\n",
    "lower_sci_pass=mean_sci_pass-moe_sci_pass\n",
    "upper_sci_pass=mean_sci_pass+moe_sci_pass\n",
    "\n",
    "print(f\"Science passed 98% confidence intervals lower : {lower_sci_pass:.2f} & upper : {upper_sci_pass:.2f}\")"
   ]
  },
  {
   "cell_type": "code",
   "execution_count": null,
   "id": "c57f8792-a51f-47b9-bca5-aaf5428a7249",
   "metadata": {},
   "outputs": [],
   "source": []
  }
 ],
 "metadata": {
  "kernelspec": {
   "display_name": "Python 3 (ipykernel)",
   "language": "python",
   "name": "python3"
  },
  "language_info": {
   "codemirror_mode": {
    "name": "ipython",
    "version": 3
   },
   "file_extension": ".py",
   "mimetype": "text/x-python",
   "name": "python",
   "nbconvert_exporter": "python",
   "pygments_lexer": "ipython3",
   "version": "3.12.7"
  }
 },
 "nbformat": 4,
 "nbformat_minor": 5
}
