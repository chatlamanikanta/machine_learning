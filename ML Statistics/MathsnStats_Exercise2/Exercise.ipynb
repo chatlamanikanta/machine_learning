{
 "cells": [
  {
   "cell_type": "markdown",
   "id": "8475b7b0",
   "metadata": {},
   "source": [
    "## Problem Statement\n",
    "\n",
    "You work for a fitness company and have gathered data on the fitness activities of 50 individuals using fitness trackers. The dataset is stored in an Excel file named \"fitness_data.xlsx\" and includes the following columns:\n",
    "\n",
    "- **name:** Name of the person.\n",
    "- **steps_taken:** The number of steps taken by individuals.\n",
    "- **calories_burned:** The estimated calories burned by individuals.\n",
    "- **sleep_duration(hours):** The number of hours of sleep individuals got on that day.\n",
    "- **water_intake(ounces):** The amount of water individuals consumed.\n"
   ]
  },
  {
   "cell_type": "code",
   "execution_count": 1,
   "id": "3a9ca3e3",
   "metadata": {},
   "outputs": [],
   "source": [
    "import pandas as pd\n",
    "import matplotlib.pyplot as plt"
   ]
  },
  {
   "cell_type": "markdown",
   "id": "d6ed840b",
   "metadata": {},
   "source": [
    "**Import Necessary Libraries**"
   ]
  },
  {
   "cell_type": "code",
   "execution_count": null,
   "id": "ad014d43",
   "metadata": {},
   "outputs": [],
   "source": []
  },
  {
   "cell_type": "markdown",
   "id": "a52c1332",
   "metadata": {},
   "source": [
    "## Task1\n",
    "\n",
    "1. Import the data from the \"fitness_data.xlsx\" Excel file.\n",
    "2. Display the first few rows of the dataset to get an overview.\n",
    "3. Calculate and display basic statistics (mean, median, min, max) for each column.\n"
   ]
  },
  {
   "cell_type": "code",
   "execution_count": 11,
   "id": "e2a3229f",
   "metadata": {},
   "outputs": [
    {
     "data": {
      "text/html": [
       "<div>\n",
       "<style scoped>\n",
       "    .dataframe tbody tr th:only-of-type {\n",
       "        vertical-align: middle;\n",
       "    }\n",
       "\n",
       "    .dataframe tbody tr th {\n",
       "        vertical-align: top;\n",
       "    }\n",
       "\n",
       "    .dataframe thead th {\n",
       "        text-align: right;\n",
       "    }\n",
       "</style>\n",
       "<table border=\"1\" class=\"dataframe\">\n",
       "  <thead>\n",
       "    <tr style=\"text-align: right;\">\n",
       "      <th></th>\n",
       "      <th>name</th>\n",
       "      <th>steps_taken</th>\n",
       "      <th>calories_burned</th>\n",
       "      <th>sleep_duration(hours)</th>\n",
       "      <th>water_intake(ounces)</th>\n",
       "    </tr>\n",
       "  </thead>\n",
       "  <tbody>\n",
       "    <tr>\n",
       "      <th>0</th>\n",
       "      <td>Akshay</td>\n",
       "      <td>10500</td>\n",
       "      <td>4500</td>\n",
       "      <td>7.5</td>\n",
       "      <td>80</td>\n",
       "    </tr>\n",
       "    <tr>\n",
       "      <th>1</th>\n",
       "      <td>Priya</td>\n",
       "      <td>9800</td>\n",
       "      <td>4200</td>\n",
       "      <td>7.2</td>\n",
       "      <td>75</td>\n",
       "    </tr>\n",
       "    <tr>\n",
       "      <th>2</th>\n",
       "      <td>Raj</td>\n",
       "      <td>11500</td>\n",
       "      <td>4800</td>\n",
       "      <td>7.0</td>\n",
       "      <td>90</td>\n",
       "    </tr>\n",
       "    <tr>\n",
       "      <th>3</th>\n",
       "      <td>Emily</td>\n",
       "      <td>12000</td>\n",
       "      <td>5000</td>\n",
       "      <td>7.8</td>\n",
       "      <td>85</td>\n",
       "    </tr>\n",
       "    <tr>\n",
       "      <th>4</th>\n",
       "      <td>Rohit</td>\n",
       "      <td>8900</td>\n",
       "      <td>4000</td>\n",
       "      <td>7.0</td>\n",
       "      <td>70</td>\n",
       "    </tr>\n",
       "  </tbody>\n",
       "</table>\n",
       "</div>"
      ],
      "text/plain": [
       "     name  steps_taken  calories_burned  sleep_duration(hours)  \\\n",
       "0  Akshay        10500             4500                    7.5   \n",
       "1   Priya         9800             4200                    7.2   \n",
       "2     Raj        11500             4800                    7.0   \n",
       "3   Emily        12000             5000                    7.8   \n",
       "4   Rohit         8900             4000                    7.0   \n",
       "\n",
       "   water_intake(ounces)  \n",
       "0                    80  \n",
       "1                    75  \n",
       "2                    90  \n",
       "3                    85  \n",
       "4                    70  "
      ]
     },
     "execution_count": 11,
     "metadata": {},
     "output_type": "execute_result"
    }
   ],
   "source": [
    "df_fitness=pd.read_excel(\"fitness_data.xlsx\")\n",
    "df_fitness.head()\n",
    "# df_fitness.shape"
   ]
  },
  {
   "cell_type": "code",
   "execution_count": 3,
   "id": "06c9dafc",
   "metadata": {},
   "outputs": [
    {
     "data": {
      "text/html": [
       "<div>\n",
       "<style scoped>\n",
       "    .dataframe tbody tr th:only-of-type {\n",
       "        vertical-align: middle;\n",
       "    }\n",
       "\n",
       "    .dataframe tbody tr th {\n",
       "        vertical-align: top;\n",
       "    }\n",
       "\n",
       "    .dataframe thead th {\n",
       "        text-align: right;\n",
       "    }\n",
       "</style>\n",
       "<table border=\"1\" class=\"dataframe\">\n",
       "  <thead>\n",
       "    <tr style=\"text-align: right;\">\n",
       "      <th></th>\n",
       "      <th>steps_taken</th>\n",
       "      <th>calories_burned</th>\n",
       "      <th>sleep_duration(hours)</th>\n",
       "      <th>water_intake(ounces)</th>\n",
       "    </tr>\n",
       "  </thead>\n",
       "  <tbody>\n",
       "    <tr>\n",
       "      <th>count</th>\n",
       "      <td>50.000000</td>\n",
       "      <td>50.000000</td>\n",
       "      <td>50.000000</td>\n",
       "      <td>50.000000</td>\n",
       "    </tr>\n",
       "    <tr>\n",
       "      <th>mean</th>\n",
       "      <td>10316.000000</td>\n",
       "      <td>4418.000000</td>\n",
       "      <td>7.396000</td>\n",
       "      <td>79.600000</td>\n",
       "    </tr>\n",
       "    <tr>\n",
       "      <th>std</th>\n",
       "      <td>1177.052701</td>\n",
       "      <td>370.708092</td>\n",
       "      <td>1.660951</td>\n",
       "      <td>14.457538</td>\n",
       "    </tr>\n",
       "    <tr>\n",
       "      <th>min</th>\n",
       "      <td>8000.000000</td>\n",
       "      <td>3700.000000</td>\n",
       "      <td>4.000000</td>\n",
       "      <td>30.000000</td>\n",
       "    </tr>\n",
       "    <tr>\n",
       "      <th>25%</th>\n",
       "      <td>9625.000000</td>\n",
       "      <td>4200.000000</td>\n",
       "      <td>7.000000</td>\n",
       "      <td>70.000000</td>\n",
       "    </tr>\n",
       "    <tr>\n",
       "      <th>50%</th>\n",
       "      <td>10250.000000</td>\n",
       "      <td>4400.000000</td>\n",
       "      <td>7.200000</td>\n",
       "      <td>80.000000</td>\n",
       "    </tr>\n",
       "    <tr>\n",
       "      <th>75%</th>\n",
       "      <td>11000.000000</td>\n",
       "      <td>4700.000000</td>\n",
       "      <td>7.500000</td>\n",
       "      <td>90.000000</td>\n",
       "    </tr>\n",
       "    <tr>\n",
       "      <th>max</th>\n",
       "      <td>15000.000000</td>\n",
       "      <td>5500.000000</td>\n",
       "      <td>18.000000</td>\n",
       "      <td>100.000000</td>\n",
       "    </tr>\n",
       "  </tbody>\n",
       "</table>\n",
       "</div>"
      ],
      "text/plain": [
       "        steps_taken  calories_burned  sleep_duration(hours)  \\\n",
       "count     50.000000        50.000000              50.000000   \n",
       "mean   10316.000000      4418.000000               7.396000   \n",
       "std     1177.052701       370.708092               1.660951   \n",
       "min     8000.000000      3700.000000               4.000000   \n",
       "25%     9625.000000      4200.000000               7.000000   \n",
       "50%    10250.000000      4400.000000               7.200000   \n",
       "75%    11000.000000      4700.000000               7.500000   \n",
       "max    15000.000000      5500.000000              18.000000   \n",
       "\n",
       "       water_intake(ounces)  \n",
       "count             50.000000  \n",
       "mean              79.600000  \n",
       "std               14.457538  \n",
       "min               30.000000  \n",
       "25%               70.000000  \n",
       "50%               80.000000  \n",
       "75%               90.000000  \n",
       "max              100.000000  "
      ]
     },
     "execution_count": 3,
     "metadata": {},
     "output_type": "execute_result"
    }
   ],
   "source": [
    "df_fitness.describe()"
   ]
  },
  {
   "cell_type": "markdown",
   "id": "3fe8167c",
   "metadata": {},
   "source": [
    "## Task2:  Range and IQR\n",
    "\n",
    "1. Calculate the range of \"steps_taken\".\n",
    "2. Calculate the range of \"calories_burned\".\n",
    "3. Calculate the Interquartile Range (IQR) for \"sleep_duration(hours)\".\n",
    "4. Calculate the IQR for \"water_intake(ounces)\"."
   ]
  },
  {
   "cell_type": "code",
   "execution_count": 5,
   "id": "3fa325b8",
   "metadata": {},
   "outputs": [
    {
     "name": "stdout",
     "output_type": "stream",
     "text": [
      "7000\n",
      "1800\n",
      "0.5\n",
      "20.0\n"
     ]
    }
   ],
   "source": [
    "# Calculate the range of \"steps_taken\" for the entire week\n",
    "steps_range=df_fitness[\"steps_taken\"].max()-df_fitness[\"steps_taken\"].min()\n",
    "\n",
    "# Calculate the range of \"calories_burned\" for the entire week\n",
    "\n",
    "cal_range=df_fitness[\"calories_burned\"].max()-df_fitness[\"calories_burned\"].min()\n",
    "\n",
    "# Calculate the Interquartile Range (IQR) for \"sleep_duration(hours)\"\n",
    "sleep_Q1,sleep_Q3=df_fitness[\"sleep_duration(hours)\"].quantile([0.25,0.75])\n",
    "sleep_IQR=sleep_Q3-sleep_Q1\n",
    "\n",
    "# Calculate the IQR for \"water_intake(ounces)\"\n",
    "water_Q1,water_Q3=df_fitness[\"water_intake(ounces)\"].quantile([0.25,0.75])\n",
    "water_IQR=water_Q3-water_Q1\n",
    "\n",
    "# Print the results\n",
    "\n",
    "print(steps_range)\n",
    "print(cal_range)\n",
    "print(sleep_IQR)\n",
    "print(water_IQR)\n"
   ]
  },
  {
   "cell_type": "markdown",
   "id": "a62c412c",
   "metadata": {},
   "source": [
    "## Task3: Box Plot for Steps Taken\n",
    "\n",
    "- Create a box plot for the \"steps_taken\" column to visualize the distribution of daily steps taken by individuals. Interpret the box plot and identify any outliers."
   ]
  },
  {
   "cell_type": "code",
   "execution_count": 15,
   "id": "a71cfa71",
   "metadata": {},
   "outputs": [
    {
     "data": {
      "image/png": "[encoded data removed]",
      "text/plain": [
       "<Figure size 1200x400 with 1 Axes>"
      ]
     },
     "metadata": {},
     "output_type": "display_data"
    }
   ],
   "source": [
    "plt.figure(figsize=(12,4))\n",
    "plt.boxplot(df_fitness[\"steps_taken\"],vert=True,patch_artist=True)\n",
    "plt.xlabel(\"Data\")\n",
    "plt.ylabel(\"Steps Taken\")\n",
    "plt.title(\"Box Plot for Steps Taken\")\n",
    "plt.tight_layout()\n",
    "plt.show()"
   ]
  },
  {
   "cell_type": "markdown",
   "id": "769c3beb",
   "metadata": {},
   "source": [
    "#### Observations\n",
    "\n",
    "- Most individuals appear to have a median daily step count around 10,000 as indicated by the orange line within the box.\n",
    "- The presence of an outlier at 15,000 indicates that there is at least one individual who took an exceptionally high number of steps. This could be due to various reasons, such as an unusually active day or a measurement error."
   ]
  },
  {
   "cell_type": "markdown",
   "id": "013b6cf8",
   "metadata": {},
   "source": [
    "\n",
    "## Task4: \n",
    "\n",
    "- Use the IQR method to identify and label outliers in the \"sleep_duration(hours)\" column."
   ]
  },
  {
   "cell_type": "code",
   "execution_count": 20,
   "id": "2e34ac45",
   "metadata": {},
   "outputs": [
    {
     "data": {
      "text/plain": [
       "(6.25, 8.25)"
      ]
     },
     "execution_count": 20,
     "metadata": {},
     "output_type": "execute_result"
    }
   ],
   "source": [
    "#defininig the function\n",
    "def get_outliers(df):\n",
    "    Q1,Q3=df.quantile([0.25,0.75])\n",
    "    IQR=Q3-Q1\n",
    "    lower=Q1-1.5*IQR\n",
    "    higher=Q3+1.5*IQR\n",
    "\n",
    "    return lower,higher\n",
    "\n",
    "get_outliers(df_fitness[\"sleep_duration(hours)\"])"
   ]
  },
  {
   "cell_type": "code",
   "execution_count": 22,
   "id": "d4687f98",
   "metadata": {},
   "outputs": [
    {
     "data": {
      "text/plain": [
       "(6.25, 8.25)"
      ]
     },
     "execution_count": 22,
     "metadata": {},
     "output_type": "execute_result"
    }
   ],
   "source": [
    "#get the lower and upper limits\n",
    "lower,upper=get_outliers(df_fitness[\"sleep_duration(hours)\"])\n",
    "lower,upper"
   ]
  },
  {
   "cell_type": "code",
   "execution_count": 23,
   "id": "649abd15",
   "metadata": {},
   "outputs": [
    {
     "data": {
      "text/html": [
       "<div>\n",
       "<style scoped>\n",
       "    .dataframe tbody tr th:only-of-type {\n",
       "        vertical-align: middle;\n",
       "    }\n",
       "\n",
       "    .dataframe tbody tr th {\n",
       "        vertical-align: top;\n",
       "    }\n",
       "\n",
       "    .dataframe thead th {\n",
       "        text-align: right;\n",
       "    }\n",
       "</style>\n",
       "<table border=\"1\" class=\"dataframe\">\n",
       "  <thead>\n",
       "    <tr style=\"text-align: right;\">\n",
       "      <th></th>\n",
       "      <th>name</th>\n",
       "      <th>steps_taken</th>\n",
       "      <th>calories_burned</th>\n",
       "      <th>sleep_duration(hours)</th>\n",
       "      <th>water_intake(ounces)</th>\n",
       "    </tr>\n",
       "  </thead>\n",
       "  <tbody>\n",
       "    <tr>\n",
       "      <th>21</th>\n",
       "      <td>Elena</td>\n",
       "      <td>11700</td>\n",
       "      <td>4900</td>\n",
       "      <td>18.0</td>\n",
       "      <td>100</td>\n",
       "    </tr>\n",
       "    <tr>\n",
       "      <th>30</th>\n",
       "      <td>Siddharth</td>\n",
       "      <td>11300</td>\n",
       "      <td>4700</td>\n",
       "      <td>4.0</td>\n",
       "      <td>75</td>\n",
       "    </tr>\n",
       "  </tbody>\n",
       "</table>\n",
       "</div>"
      ],
      "text/plain": [
       "         name  steps_taken  calories_burned  sleep_duration(hours)  \\\n",
       "21      Elena        11700             4900                   18.0   \n",
       "30  Siddharth        11300             4700                    4.0   \n",
       "\n",
       "    water_intake(ounces)  \n",
       "21                   100  \n",
       "30                    75  "
      ]
     },
     "execution_count": 23,
     "metadata": {},
     "output_type": "execute_result"
    }
   ],
   "source": [
    "# Identify and label outliers\n",
    "outliers=df_fitness[(df_fitness[\"sleep_duration(hours)\"]<lower) | (df_fitness[\"sleep_duration(hours)\"]>higher)]\n",
    "\n",
    "# Display the outliers\n",
    "outliers\n"
   ]
  },
  {
   "cell_type": "code",
   "execution_count": 24,
   "id": "bf7efcb0-41f6-4f74-ad6d-427bc4af6dfb",
   "metadata": {},
   "outputs": [
    {
     "data": {
      "image/png": "[encoded data removed]",
      "text/plain": [
       "<Figure size 1200x400 with 1 Axes>"
      ]
     },
     "metadata": {},
     "output_type": "display_data"
    }
   ],
   "source": [
    "plt.figure(figsize=(12,4))\n",
    "plt.boxplot(df_fitness[\"sleep_duration(hours)\"],vert=True,patch_artist=True)\n",
    "plt.xlabel(\"Data\")\n",
    "plt.ylabel(\"Sleep Duration(Hours)\")\n",
    "plt.title(\"Box Plot for Sleep Duration(Hours)\")\n",
    "plt.tight_layout()\n",
    "plt.show()"
   ]
  },
  {
   "cell_type": "code",
   "execution_count": null,
   "id": "8d414618-f834-4fcf-a3d2-8694a6064d1c",
   "metadata": {},
   "outputs": [],
   "source": []
  }
 ],
 "metadata": {
  "kernelspec": {
   "display_name": "Python 3 (ipykernel)",
   "language": "python",
   "name": "python3"
  },
  "language_info": {
   "codemirror_mode": {
    "name": "ipython",
    "version": 3
   },
   "file_extension": ".py",
   "mimetype": "text/x-python",
   "name": "python",
   "nbconvert_exporter": "python",
   "pygments_lexer": "ipython3",
   "version": "3.12.7"
  }
 },
 "nbformat": 4,
 "nbformat_minor": 5
}
