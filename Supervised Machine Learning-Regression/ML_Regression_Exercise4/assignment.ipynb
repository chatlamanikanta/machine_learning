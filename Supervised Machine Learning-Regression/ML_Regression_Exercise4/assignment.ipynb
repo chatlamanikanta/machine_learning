{
 "cells": [
  {
   "cell_type": "markdown",
   "id": "9402d122-421e-4d46-8821-3a634505d99c",
   "metadata": {},
   "source": [
    "### Problem Statement\n",
    "You are a data scientist / AI engineer at an educational consulting firm. You have been provided with a dataset named **`\"student_scores.csv\"`**, which includes records of the number of hours students studied and the marks they obtained. The dataset comprises the following columns:\n",
    "\n",
    "- `hours:` The number of hours a student studied.\n",
    "- `scores:` The marks obtained by the student.\n",
    "\n",
    "Your task is to use this dataset to build a polynomial regression model to predict the marks of students based on the number of hours they studied. You will need to split the data into training and test sets, train the model, and evaluate its performance using appropriate metrics."
   ]
  },
  {
   "cell_type": "markdown",
   "id": "34f7584f-ef5f-4480-897e-c21d24bcac1a",
   "metadata": {},
   "source": [
    "**Import Necessary Libraries**"
   ]
  },
  {
   "cell_type": "code",
   "execution_count": 1,
   "id": "6e6571d1-8350-4669-9f90-4cd1adbeb956",
   "metadata": {},
   "outputs": [],
   "source": [
    "import pandas as pd\n",
    "import matplotlib.pyplot as plt"
   ]
  },
  {
   "cell_type": "markdown",
   "id": "cb341f09-68a8-47db-8f77-8006154eb31c",
   "metadata": {},
   "source": [
    "### Task 1: Data Preparation and Exploration\n",
    "\n",
    "1. Import the data from the `\"student_scores.csv\"` file and store it in a variable df.\n",
    "2. Display the number of rows and columns in the dataset.\n",
    "3. Display the first few rows of the dataset to get an overview.\n",
    "4. Visualize the relationship between the number of hours studied and the marks obtained."
   ]
  },
  {
   "cell_type": "code",
   "execution_count": 4,
   "id": "d72964d6-5172-4271-b131-85383bd90615",
   "metadata": {},
   "outputs": [
    {
     "name": "stdout",
     "output_type": "stream",
     "text": [
      "(100, 2)\n"
     ]
    },
    {
     "data": {
      "text/html": [
       "<div>\n",
       "<style scoped>\n",
       "    .dataframe tbody tr th:only-of-type {\n",
       "        vertical-align: middle;\n",
       "    }\n",
       "\n",
       "    .dataframe tbody tr th {\n",
       "        vertical-align: top;\n",
       "    }\n",
       "\n",
       "    .dataframe thead th {\n",
       "        text-align: right;\n",
       "    }\n",
       "</style>\n",
       "<table border=\"1\" class=\"dataframe\">\n",
       "  <thead>\n",
       "    <tr style=\"text-align: right;\">\n",
       "      <th></th>\n",
       "      <th>hours</th>\n",
       "      <th>scores</th>\n",
       "    </tr>\n",
       "  </thead>\n",
       "  <tbody>\n",
       "    <tr>\n",
       "      <th>0</th>\n",
       "      <td>4.4</td>\n",
       "      <td>20.0</td>\n",
       "    </tr>\n",
       "    <tr>\n",
       "      <th>1</th>\n",
       "      <td>9.6</td>\n",
       "      <td>90.0</td>\n",
       "    </tr>\n",
       "    <tr>\n",
       "      <th>2</th>\n",
       "      <td>7.6</td>\n",
       "      <td>58.0</td>\n",
       "    </tr>\n",
       "    <tr>\n",
       "      <th>3</th>\n",
       "      <td>6.4</td>\n",
       "      <td>31.0</td>\n",
       "    </tr>\n",
       "    <tr>\n",
       "      <th>4</th>\n",
       "      <td>2.4</td>\n",
       "      <td>5.0</td>\n",
       "    </tr>\n",
       "  </tbody>\n",
       "</table>\n",
       "</div>"
      ],
      "text/plain": [
       "   hours  scores\n",
       "0    4.4    20.0\n",
       "1    9.6    90.0\n",
       "2    7.6    58.0\n",
       "3    6.4    31.0\n",
       "4    2.4     5.0"
      ]
     },
     "execution_count": 4,
     "metadata": {},
     "output_type": "execute_result"
    }
   ],
   "source": [
    "df=pd.read_csv(\"student_scores.csv\")\n",
    "print(df.shape)\n",
    "df.head()"
   ]
  },
  {
   "cell_type": "code",
   "execution_count": 5,
   "id": "e2cfb930-86b9-4d72-9d1f-a363fe89d5ff",
   "metadata": {},
   "outputs": [
    {
     "data": {
      "image/png": "[encoded data removed]",
      "text/plain": [
       "<Figure size 1200x400 with 1 Axes>"
      ]
     },
     "metadata": {},
     "output_type": "display_data"
    }
   ],
   "source": [
    "plt.figure(figsize=(12,4))\n",
    "plt.scatter(df[\"hours\"],df[\"scores\"])\n",
    "plt.xlabel(\"No.of hours studied\")\n",
    "plt.ylabel(\"Scores\")\n",
    "plt.title(\"Student Scores\")\n",
    "plt.show()"
   ]
  },
  {
   "cell_type": "markdown",
   "id": "4715a770-95e7-4d61-8940-459d2315f888",
   "metadata": {},
   "source": [
    "### Task 2: Train a Polynomial Regression Model\n",
    "\n",
    "1. Select the feature (hours) and the target variable (scores) for modeling.\n",
    "2. Split the data into training and test sets with a test size of 25%.\n",
    "3. Create a Polynomial Features transformer with a degree of 3 and transform the training and test sets.\n",
    "4. Create a Linear Regression model and fit it using the transformed training data.\n",
    "5. Print the model's coefficients and intercept."
   ]
  },
  {
   "cell_type": "code",
   "execution_count": 6,
   "id": "0d7af1f6-a428-4be9-90b1-ee245efffe5f",
   "metadata": {},
   "outputs": [],
   "source": [
    "from sklearn.linear_model import LinearRegression\n",
    "from sklearn.model_selection import train_test_split\n",
    "from sklearn.preprocessing import PolynomialFeatures\n",
    "from sklearn.metrics import r2_score,mean_squared_error"
   ]
  },
  {
   "cell_type": "code",
   "execution_count": 7,
   "id": "b409f9c2-a01b-43d1-92b8-73d790700d6f",
   "metadata": {},
   "outputs": [],
   "source": [
    "X=df[[\"hours\"]]\n",
    "y=df[\"scores\"]\n",
    "\n",
    "X_train,X_test,y_train,y_test=train_test_split(X,y,test_size=0.25,random_state=42)"
   ]
  },
  {
   "cell_type": "code",
   "execution_count": 8,
   "id": "f603c09a-dd2e-4d1a-b08f-55d1e54f69e4",
   "metadata": {},
   "outputs": [],
   "source": [
    "poly=PolynomialFeatures(degree=3)\n",
    "X_train_poly=poly.fit_transform(X_train)\n",
    "X_test_poly=poly.transform(X_test)"
   ]
  },
  {
   "cell_type": "code",
   "execution_count": 9,
   "id": "f680ab4e-7dce-4a7c-b4bd-fde62a0643ab",
   "metadata": {},
   "outputs": [
    {
     "name": "stdout",
     "output_type": "stream",
     "text": [
      "[ 0.         -4.4308579   1.71393503 -0.03669951] 7.691872832731704\n"
     ]
    }
   ],
   "source": [
    "model=LinearRegression()\n",
    "model.fit(X_train_poly,y_train)\n",
    "print(model.coef_,model.intercept_)"
   ]
  },
  {
   "cell_type": "markdown",
   "id": "3843905a-d817-4021-ba2c-d5e72f0a1b2b",
   "metadata": {},
   "source": [
    "### Task 3: Model Evaluation\n",
    "1. Make predictions on the test set using the trained model.\n",
    "2. Evaluate the model using Mean Squared Error (MSE) and R-squared (R2) metrics.\n",
    "3. Print the MSE and R2 values."
   ]
  },
  {
   "cell_type": "code",
   "execution_count": 10,
   "id": "778ab058-99a6-47f9-8a03-0677335ead89",
   "metadata": {},
   "outputs": [
    {
     "name": "stdout",
     "output_type": "stream",
     "text": [
      "15.028613094999933 0.9866904297085334\n"
     ]
    }
   ],
   "source": [
    "y_pred=model.predict(X_test_poly)\n",
    "mse=mean_squared_error(y_test,y_pred)\n",
    "r2=r2_score(y_test,y_pred)\n",
    "\n",
    "print(mse,r2)"
   ]
  },
  {
   "cell_type": "code",
   "execution_count": null,
   "id": "544de6c8-cf6d-4df6-8a7a-ee6bebd45c45",
   "metadata": {},
   "outputs": [],
   "source": []
  }
 ],
 "metadata": {
  "kernelspec": {
   "display_name": "Python 3 (ipykernel)",
   "language": "python",
   "name": "python3"
  },
  "language_info": {
   "codemirror_mode": {
    "name": "ipython",
    "version": 3
   },
   "file_extension": ".py",
   "mimetype": "text/x-python",
   "name": "python",
   "nbconvert_exporter": "python",
   "pygments_lexer": "ipython3",
   "version": "3.12.7"
  }
 },
 "nbformat": 4,
 "nbformat_minor": 5
}
