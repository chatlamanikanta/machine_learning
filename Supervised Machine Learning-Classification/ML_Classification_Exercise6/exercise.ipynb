{
 "cells": [
  {
   "cell_type": "markdown",
   "id": "9e4326cc-97e7-4cfb-9b72-06b96a6aaaba",
   "metadata": {},
   "source": [
    "### Problem Statement\n",
    "\n",
    "You are a data scientist / AI engineer working on a breast cancer recurrence prediction project. You have been provided with a dataset named **`\"breast_cancer_data.csv\"`**, which includes various clinical and pathological factors influencing the recurrence of breast cancer. The dataset comprises the following columns:\n",
    "\n",
    "- `age:` Age of the patient (ranges: 30-39, 40-49, 50-59, 60-69).\n",
    "- `menopause:` Menopause status of the patient (premeno, ge40, lt40).\n",
    "- `tumor-size:` Size of the tumor (ranges in mm).\n",
    "- `inv-nodes:` Number of involved lymph nodes (ranges).\n",
    "- `node-caps:` Whether node caps are present (yes or no).\n",
    "- `deg-malig:` Degree of malignancy (1, 2, 3).\n",
    "- `breast:` Breast involved (left or right).\n",
    "- `breast-quad:` Quadrant of the breast involved (left_up, left_low, right_up, right_low, central).\n",
    "- `irradiat:` Whether the patient received irradiation (yes or no).\n",
    "- `class:` Recurrence of breast cancer (no-recurrence-events, recurrence-events).\n",
    "\n",
    "Your task is to analyze this dataset to understand the factors contributing to breast cancer recurrence. You will handle class imbalance using various techniques and build machine learning models to predict whether a patient will experience recurrence events based on the provided features."
   ]
  },
  {
   "cell_type": "code",
   "execution_count": 14,
   "id": "d223f0c6-bb79-4a45-897a-634c71f57f22",
   "metadata": {},
   "outputs": [],
   "source": [
    "# # Dataset Credits\n",
    "\n",
    "# Zwitter,Matjaz and Soklic,Milan. (1988). Breast Cancer. \n",
    "# UCI Machine Learning Repository. https://doi.org/10.24432/C51P4M."
   ]
  },
  {
   "cell_type": "markdown",
   "id": "e31c2186-e911-424d-936a-b81947288874",
   "metadata": {},
   "source": [
    "**Import Necessary Libraries**"
   ]
  },
  {
   "cell_type": "code",
   "execution_count": 1,
   "id": "366bfaf1-97de-497f-a344-46f2be2cd7ec",
   "metadata": {},
   "outputs": [],
   "source": [
    "import pandas as pd\n",
    "import matplotlib.pyplot as plt\n",
    "from sklearn.model_selection import train_test_split\n"
   ]
  },
  {
   "cell_type": "markdown",
   "id": "0e06278d-f1a3-4c6a-ae0f-10dfc18e9427",
   "metadata": {},
   "source": [
    "### Task 1: Data Preparation and Exploration\n",
    "\n",
    "1. Import the dataset and display the first few rows to understand its structure.\n",
    "2. Check for any missing values in the dataset and handle them appropriately.\n",
    "3. Visualize the class distribution to identify any class imbalance in the dataset.\n",
    "4. Encoding categorical variables using one-hot encoding for the following columns: `age, menopause, tumor-size, inv-nodes, node-caps, breast, breast-quad, irradiat`."
   ]
  },
  {
   "cell_type": "code",
   "execution_count": 2,
   "id": "a3b5da9b-8f2d-43c9-ab78-7b1638ca9d52",
   "metadata": {},
   "outputs": [
    {
     "name": "stdout",
     "output_type": "stream",
     "text": [
      "(286, 10)\n"
     ]
    },
    {
     "data": {
      "text/html": [
       "<div>\n",
       "<style scoped>\n",
       "    .dataframe tbody tr th:only-of-type {\n",
       "        vertical-align: middle;\n",
       "    }\n",
       "\n",
       "    .dataframe tbody tr th {\n",
       "        vertical-align: top;\n",
       "    }\n",
       "\n",
       "    .dataframe thead th {\n",
       "        text-align: right;\n",
       "    }\n",
       "</style>\n",
       "<table border=\"1\" class=\"dataframe\">\n",
       "  <thead>\n",
       "    <tr style=\"text-align: right;\">\n",
       "      <th></th>\n",
       "      <th>age</th>\n",
       "      <th>menopause</th>\n",
       "      <th>tumor-size</th>\n",
       "      <th>inv-nodes</th>\n",
       "      <th>node-caps</th>\n",
       "      <th>deg-malig</th>\n",
       "      <th>breast</th>\n",
       "      <th>breast-quad</th>\n",
       "      <th>irradiat</th>\n",
       "      <th>class</th>\n",
       "    </tr>\n",
       "  </thead>\n",
       "  <tbody>\n",
       "    <tr>\n",
       "      <th>0</th>\n",
       "      <td>30-39</td>\n",
       "      <td>premeno</td>\n",
       "      <td>30-34</td>\n",
       "      <td>0-2</td>\n",
       "      <td>no</td>\n",
       "      <td>3</td>\n",
       "      <td>left</td>\n",
       "      <td>left_low</td>\n",
       "      <td>no</td>\n",
       "      <td>no-recurrence-events</td>\n",
       "    </tr>\n",
       "    <tr>\n",
       "      <th>1</th>\n",
       "      <td>40-49</td>\n",
       "      <td>premeno</td>\n",
       "      <td>20-24</td>\n",
       "      <td>0-2</td>\n",
       "      <td>no</td>\n",
       "      <td>2</td>\n",
       "      <td>right</td>\n",
       "      <td>right_up</td>\n",
       "      <td>no</td>\n",
       "      <td>no-recurrence-events</td>\n",
       "    </tr>\n",
       "    <tr>\n",
       "      <th>2</th>\n",
       "      <td>40-49</td>\n",
       "      <td>premeno</td>\n",
       "      <td>20-24</td>\n",
       "      <td>0-2</td>\n",
       "      <td>no</td>\n",
       "      <td>2</td>\n",
       "      <td>left</td>\n",
       "      <td>left_low</td>\n",
       "      <td>no</td>\n",
       "      <td>no-recurrence-events</td>\n",
       "    </tr>\n",
       "    <tr>\n",
       "      <th>3</th>\n",
       "      <td>60-69</td>\n",
       "      <td>ge40</td>\n",
       "      <td>15-19</td>\n",
       "      <td>0-2</td>\n",
       "      <td>no</td>\n",
       "      <td>2</td>\n",
       "      <td>right</td>\n",
       "      <td>left_up</td>\n",
       "      <td>no</td>\n",
       "      <td>no-recurrence-events</td>\n",
       "    </tr>\n",
       "    <tr>\n",
       "      <th>4</th>\n",
       "      <td>40-49</td>\n",
       "      <td>premeno</td>\n",
       "      <td>0-4</td>\n",
       "      <td>0-2</td>\n",
       "      <td>no</td>\n",
       "      <td>2</td>\n",
       "      <td>right</td>\n",
       "      <td>right_low</td>\n",
       "      <td>no</td>\n",
       "      <td>no-recurrence-events</td>\n",
       "    </tr>\n",
       "  </tbody>\n",
       "</table>\n",
       "</div>"
      ],
      "text/plain": [
       "     age menopause tumor-size inv-nodes node-caps  deg-malig breast  \\\n",
       "0  30-39   premeno      30-34       0-2        no          3   left   \n",
       "1  40-49   premeno      20-24       0-2        no          2  right   \n",
       "2  40-49   premeno      20-24       0-2        no          2   left   \n",
       "3  60-69      ge40      15-19       0-2        no          2  right   \n",
       "4  40-49   premeno        0-4       0-2        no          2  right   \n",
       "\n",
       "  breast-quad irradiat                 class  \n",
       "0    left_low       no  no-recurrence-events  \n",
       "1    right_up       no  no-recurrence-events  \n",
       "2    left_low       no  no-recurrence-events  \n",
       "3     left_up       no  no-recurrence-events  \n",
       "4   right_low       no  no-recurrence-events  "
      ]
     },
     "execution_count": 2,
     "metadata": {},
     "output_type": "execute_result"
    }
   ],
   "source": [
    "df=pd.read_csv(\"breast_cancer_data.csv\")\n",
    "print(df.shape)\n",
    "df.head()\n"
   ]
  },
  {
   "cell_type": "code",
   "execution_count": 5,
   "id": "030f22df-bc4b-48f0-9e94-9fa546b4bfcd",
   "metadata": {},
   "outputs": [
    {
     "data": {
      "text/plain": [
       "age            0\n",
       "menopause      0\n",
       "tumor-size     0\n",
       "inv-nodes      0\n",
       "node-caps      0\n",
       "deg-malig      0\n",
       "breast         0\n",
       "breast-quad    0\n",
       "irradiat       0\n",
       "class          0\n",
       "dtype: int64"
      ]
     },
     "execution_count": 5,
     "metadata": {},
     "output_type": "execute_result"
    }
   ],
   "source": [
    "df[\"node-caps\"]=df[\"node-caps\"].ffill()\n",
    "df.isna().sum()"
   ]
  },
  {
   "cell_type": "code",
   "execution_count": 11,
   "id": "866fb82a-661a-4dad-9ca8-e2e64adebdf0",
   "metadata": {},
   "outputs": [
    {
     "data": {
      "image/png": "[encoded data removed]",
      "text/plain": [
       "<Figure size 640x480 with 1 Axes>"
      ]
     },
     "metadata": {},
     "output_type": "display_data"
    }
   ],
   "source": [
    "df[\"class\"].value_counts().plot(kind=\"bar\")\n",
    "plt.show()"
   ]
  },
  {
   "cell_type": "code",
   "execution_count": 12,
   "id": "d4314b41-f673-469d-a719-4f209422c97a",
   "metadata": {},
   "outputs": [],
   "source": [
    "df_encoded=pd.get_dummies(df,columns=[\"age\",\"menopause\",\"tumor-size\",\"inv-nodes\",\"node-caps\",\"breast\",\"breast-quad\",\"irradiat\"],drop_first=True)\n"
   ]
  },
  {
   "cell_type": "code",
   "execution_count": 13,
   "id": "8b05dd10-04d4-45e6-a0f4-567bba7c22b9",
   "metadata": {},
   "outputs": [
    {
     "data": {
      "text/html": [
       "<div>\n",
       "<style scoped>\n",
       "    .dataframe tbody tr th:only-of-type {\n",
       "        vertical-align: middle;\n",
       "    }\n",
       "\n",
       "    .dataframe tbody tr th {\n",
       "        vertical-align: top;\n",
       "    }\n",
       "\n",
       "    .dataframe thead th {\n",
       "        text-align: right;\n",
       "    }\n",
       "</style>\n",
       "<table border=\"1\" class=\"dataframe\">\n",
       "  <thead>\n",
       "    <tr style=\"text-align: right;\">\n",
       "      <th></th>\n",
       "      <th>deg-malig</th>\n",
       "      <th>class</th>\n",
       "      <th>age_30-39</th>\n",
       "      <th>age_40-49</th>\n",
       "      <th>age_50-59</th>\n",
       "      <th>age_60-69</th>\n",
       "      <th>age_70-79</th>\n",
       "      <th>menopause_lt40</th>\n",
       "      <th>menopause_premeno</th>\n",
       "      <th>tumor-size_09-May</th>\n",
       "      <th>...</th>\n",
       "      <th>inv-nodes_14-Dec</th>\n",
       "      <th>inv-nodes_15-17</th>\n",
       "      <th>inv-nodes_24-26</th>\n",
       "      <th>node-caps_yes</th>\n",
       "      <th>breast_right</th>\n",
       "      <th>breast-quad_left_low</th>\n",
       "      <th>breast-quad_left_up</th>\n",
       "      <th>breast-quad_right_low</th>\n",
       "      <th>breast-quad_right_up</th>\n",
       "      <th>irradiat_yes</th>\n",
       "    </tr>\n",
       "  </thead>\n",
       "  <tbody>\n",
       "    <tr>\n",
       "      <th>0</th>\n",
       "      <td>3</td>\n",
       "      <td>no-recurrence-events</td>\n",
       "      <td>True</td>\n",
       "      <td>False</td>\n",
       "      <td>False</td>\n",
       "      <td>False</td>\n",
       "      <td>False</td>\n",
       "      <td>False</td>\n",
       "      <td>True</td>\n",
       "      <td>False</td>\n",
       "      <td>...</td>\n",
       "      <td>False</td>\n",
       "      <td>False</td>\n",
       "      <td>False</td>\n",
       "      <td>False</td>\n",
       "      <td>False</td>\n",
       "      <td>True</td>\n",
       "      <td>False</td>\n",
       "      <td>False</td>\n",
       "      <td>False</td>\n",
       "      <td>False</td>\n",
       "    </tr>\n",
       "    <tr>\n",
       "      <th>1</th>\n",
       "      <td>2</td>\n",
       "      <td>no-recurrence-events</td>\n",
       "      <td>False</td>\n",
       "      <td>True</td>\n",
       "      <td>False</td>\n",
       "      <td>False</td>\n",
       "      <td>False</td>\n",
       "      <td>False</td>\n",
       "      <td>True</td>\n",
       "      <td>False</td>\n",
       "      <td>...</td>\n",
       "      <td>False</td>\n",
       "      <td>False</td>\n",
       "      <td>False</td>\n",
       "      <td>False</td>\n",
       "      <td>True</td>\n",
       "      <td>False</td>\n",
       "      <td>False</td>\n",
       "      <td>False</td>\n",
       "      <td>True</td>\n",
       "      <td>False</td>\n",
       "    </tr>\n",
       "    <tr>\n",
       "      <th>2</th>\n",
       "      <td>2</td>\n",
       "      <td>no-recurrence-events</td>\n",
       "      <td>False</td>\n",
       "      <td>True</td>\n",
       "      <td>False</td>\n",
       "      <td>False</td>\n",
       "      <td>False</td>\n",
       "      <td>False</td>\n",
       "      <td>True</td>\n",
       "      <td>False</td>\n",
       "      <td>...</td>\n",
       "      <td>False</td>\n",
       "      <td>False</td>\n",
       "      <td>False</td>\n",
       "      <td>False</td>\n",
       "      <td>False</td>\n",
       "      <td>True</td>\n",
       "      <td>False</td>\n",
       "      <td>False</td>\n",
       "      <td>False</td>\n",
       "      <td>False</td>\n",
       "    </tr>\n",
       "    <tr>\n",
       "      <th>3</th>\n",
       "      <td>2</td>\n",
       "      <td>no-recurrence-events</td>\n",
       "      <td>False</td>\n",
       "      <td>False</td>\n",
       "      <td>False</td>\n",
       "      <td>True</td>\n",
       "      <td>False</td>\n",
       "      <td>False</td>\n",
       "      <td>False</td>\n",
       "      <td>False</td>\n",
       "      <td>...</td>\n",
       "      <td>False</td>\n",
       "      <td>False</td>\n",
       "      <td>False</td>\n",
       "      <td>False</td>\n",
       "      <td>True</td>\n",
       "      <td>False</td>\n",
       "      <td>True</td>\n",
       "      <td>False</td>\n",
       "      <td>False</td>\n",
       "      <td>False</td>\n",
       "    </tr>\n",
       "    <tr>\n",
       "      <th>4</th>\n",
       "      <td>2</td>\n",
       "      <td>no-recurrence-events</td>\n",
       "      <td>False</td>\n",
       "      <td>True</td>\n",
       "      <td>False</td>\n",
       "      <td>False</td>\n",
       "      <td>False</td>\n",
       "      <td>False</td>\n",
       "      <td>True</td>\n",
       "      <td>False</td>\n",
       "      <td>...</td>\n",
       "      <td>False</td>\n",
       "      <td>False</td>\n",
       "      <td>False</td>\n",
       "      <td>False</td>\n",
       "      <td>True</td>\n",
       "      <td>False</td>\n",
       "      <td>False</td>\n",
       "      <td>True</td>\n",
       "      <td>False</td>\n",
       "      <td>False</td>\n",
       "    </tr>\n",
       "  </tbody>\n",
       "</table>\n",
       "<p>5 rows × 32 columns</p>\n",
       "</div>"
      ],
      "text/plain": [
       "   deg-malig                 class  age_30-39  age_40-49  age_50-59  \\\n",
       "0          3  no-recurrence-events       True      False      False   \n",
       "1          2  no-recurrence-events      False       True      False   \n",
       "2          2  no-recurrence-events      False       True      False   \n",
       "3          2  no-recurrence-events      False      False      False   \n",
       "4          2  no-recurrence-events      False       True      False   \n",
       "\n",
       "   age_60-69  age_70-79  menopause_lt40  menopause_premeno  tumor-size_09-May  \\\n",
       "0      False      False           False               True              False   \n",
       "1      False      False           False               True              False   \n",
       "2      False      False           False               True              False   \n",
       "3       True      False           False              False              False   \n",
       "4      False      False           False               True              False   \n",
       "\n",
       "   ...  inv-nodes_14-Dec  inv-nodes_15-17  inv-nodes_24-26  node-caps_yes  \\\n",
       "0  ...             False            False            False          False   \n",
       "1  ...             False            False            False          False   \n",
       "2  ...             False            False            False          False   \n",
       "3  ...             False            False            False          False   \n",
       "4  ...             False            False            False          False   \n",
       "\n",
       "   breast_right  breast-quad_left_low  breast-quad_left_up  \\\n",
       "0         False                  True                False   \n",
       "1          True                 False                False   \n",
       "2         False                  True                False   \n",
       "3          True                 False                 True   \n",
       "4          True                 False                False   \n",
       "\n",
       "   breast-quad_right_low  breast-quad_right_up  irradiat_yes  \n",
       "0                  False                 False         False  \n",
       "1                  False                  True         False  \n",
       "2                  False                 False         False  \n",
       "3                  False                 False         False  \n",
       "4                   True                 False         False  \n",
       "\n",
       "[5 rows x 32 columns]"
      ]
     },
     "execution_count": 13,
     "metadata": {},
     "output_type": "execute_result"
    }
   ],
   "source": [
    "df_encoded.head()"
   ]
  },
  {
   "cell_type": "markdown",
   "id": "420bc740-df4f-4cbc-a9f0-27068e5a23f2",
   "metadata": {},
   "source": [
    "### Task 2: Logistic Regression Model Without Handling Class Imbalance\n",
    "\n",
    "1. Split the dataset into training and test sets.\n",
    "2. Train a Logistic Regression model using the training data.\n",
    "3. Evaluate the model using a classification report, including precision, recall, and F1-score."
   ]
  },
  {
   "cell_type": "code",
   "execution_count": 14,
   "id": "03fa7644-ae81-432f-be55-e66f62a41793",
   "metadata": {},
   "outputs": [],
   "source": [
    "X=df_encoded.drop(\"class\",axis=1)\n",
    "y=df_encoded[\"class\"]\n",
    "\n",
    "X_train,X_test,y_train,y_test=train_test_split(X,y,test_size=0.2,random_state=42)"
   ]
  },
  {
   "cell_type": "code",
   "execution_count": 17,
   "id": "76166f86-a594-4608-952c-1ac6dad44650",
   "metadata": {},
   "outputs": [],
   "source": [
    "from sklearn.linear_model import LogisticRegression\n",
    "from sklearn.metrics import classification_report\n",
    "\n",
    "model = LogisticRegression(max_iter=5000)\n",
    "model.fit(X_train,y_train)\n",
    "y_pred = model.predict(X_test)\n",
    "\n",
    "report = classification_report(y_test,y_pred)\n"
   ]
  },
  {
   "cell_type": "code",
   "execution_count": 18,
   "id": "cab04658-8884-478e-b63c-3e505f199ba2",
   "metadata": {},
   "outputs": [
    {
     "name": "stdout",
     "output_type": "stream",
     "text": [
      "                      precision    recall  f1-score   support\n",
      "\n",
      "no-recurrence-events       0.67      0.92      0.77        37\n",
      "   recurrence-events       0.57      0.19      0.29        21\n",
      "\n",
      "            accuracy                           0.66        58\n",
      "           macro avg       0.62      0.55      0.53        58\n",
      "        weighted avg       0.63      0.66      0.60        58\n",
      "\n"
     ]
    }
   ],
   "source": [
    "print(report)"
   ]
  },
  {
   "cell_type": "markdown",
   "id": "ef5af349-d029-4183-887c-a086250aa203",
   "metadata": {},
   "source": [
    "### Task 3: Handling Class Imbalance Using Undersampling\n",
    "\n",
    "1. Apply undersampling to balance the classes in the training data.\n",
    "2. Train a Logistic Regression model using the undersampled training data.\n",
    "3. Evaluate the model using a classification report, including precision, recall, and F1-score."
   ]
  },
  {
   "cell_type": "code",
   "execution_count": 20,
   "id": "9a3d3ba3-0958-4f70-ba8c-276b2f36ecc8",
   "metadata": {},
   "outputs": [
    {
     "data": {
      "text/plain": [
       "class\n",
       "no-recurrence-events    64\n",
       "recurrence-events       64\n",
       "Name: count, dtype: int64"
      ]
     },
     "execution_count": 20,
     "metadata": {},
     "output_type": "execute_result"
    }
   ],
   "source": [
    "from imblearn.under_sampling import RandomUnderSampler\n",
    "rus = RandomUnderSampler(random_state=42)\n",
    "X_train_rus,y_train_rus = rus.fit_resample(X_train,y_train)\n",
    "y_train_rus.value_counts()"
   ]
  },
  {
   "cell_type": "code",
   "execution_count": 23,
   "id": "dec337b3-9c21-428d-9105-1b79625ad961",
   "metadata": {},
   "outputs": [],
   "source": [
    "model = LogisticRegression(max_iter=5000)\n",
    "model.fit(X_train_rus,y_train_rus)\n",
    "y_pred_rus = model.predict(X_test)\n",
    "\n",
    "report_rus = classification_report(y_test,y_pred_rus)\n"
   ]
  },
  {
   "cell_type": "code",
   "execution_count": 24,
   "id": "b74f4fea-08d5-47dd-9ea5-81adc8fd6c38",
   "metadata": {},
   "outputs": [
    {
     "name": "stdout",
     "output_type": "stream",
     "text": [
      "                      precision    recall  f1-score   support\n",
      "\n",
      "no-recurrence-events       0.73      0.73      0.73        37\n",
      "   recurrence-events       0.52      0.52      0.52        21\n",
      "\n",
      "            accuracy                           0.66        58\n",
      "           macro avg       0.63      0.63      0.63        58\n",
      "        weighted avg       0.66      0.66      0.66        58\n",
      "\n"
     ]
    }
   ],
   "source": [
    "print(report_rus)\n"
   ]
  },
  {
   "cell_type": "markdown",
   "id": "7534fb36-42b0-4353-b0ae-ef74d8dcf99e",
   "metadata": {},
   "source": [
    "### Task 4: Handling Class Imbalance Using SMOTE (Oversampling)\n",
    "\n",
    "1. Apply SMOTE (Synthetic Minority Over-sampling Technique) to balance the classes in the training data.\n",
    "2. Train a Logistic Regression model using the SMOTE-balanced training data.\n",
    "3. Evaluate the model using a classification report, including precision, recall, and F1-score."
   ]
  },
  {
   "cell_type": "code",
   "execution_count": 26,
   "id": "23b1e2b0-2765-4a33-9cb0-4fe268ab39c1",
   "metadata": {},
   "outputs": [
    {
     "name": "stdout",
     "output_type": "stream",
     "text": [
      "                      precision    recall  f1-score   support\n",
      "\n",
      "no-recurrence-events       0.74      0.84      0.78        37\n",
      "   recurrence-events       0.62      0.48      0.54        21\n",
      "\n",
      "            accuracy                           0.71        58\n",
      "           macro avg       0.68      0.66      0.66        58\n",
      "        weighted avg       0.70      0.71      0.70        58\n",
      "\n"
     ]
    }
   ],
   "source": [
    "from imblearn.over_sampling import SMOTE\n",
    "smote = SMOTE(random_state=42)\n",
    "\n",
    "X_train_smote,y_train_smote = smote.fit_resample(X_train,y_train)\n",
    "y_train_smote.value_counts()\n",
    "\n",
    "model = LogisticRegression(max_iter=5000)\n",
    "model.fit(X_train_smote,y_train_smote)\n",
    "y_pred_smote = model.predict(X_test)\n",
    "\n",
    "report_smote = classification_report(y_test,y_pred_smote)\n",
    "print(report_smote)"
   ]
  },
  {
   "cell_type": "markdown",
   "id": "ff63426b-f134-45cc-9191-b4c2c9096dcc",
   "metadata": {},
   "source": [
    "### Task 5: Handling Class Imbalance Using SMOTE Tomek Links\n",
    "\n",
    "1. Apply SMOTE Tomek Links to balance the classes in the training data.\n",
    "2. Train a Logistic Regression model using the SMOTE Tomek Links-balanced training data.\n",
    "3. Evaluate the model using a classification report, including precision, recall, and F1-score."
   ]
  },
  {
   "cell_type": "code",
   "execution_count": 27,
   "id": "b1230915-27c3-42b4-a4fd-95acf3a22853",
   "metadata": {},
   "outputs": [
    {
     "data": {
      "text/plain": [
       "class\n",
       "no-recurrence-events    152\n",
       "recurrence-events       152\n",
       "Name: count, dtype: int64"
      ]
     },
     "execution_count": 27,
     "metadata": {},
     "output_type": "execute_result"
    }
   ],
   "source": [
    "from imblearn.combine import SMOTETomek\n",
    "\n",
    "smt = SMOTETomek(random_state=42)\n",
    "X_train_smt,y_train_smt = smt.fit_resample(X_train,y_train)\n",
    "y_train_smt.value_counts()"
   ]
  },
  {
   "cell_type": "code",
   "execution_count": 30,
   "id": "a99008c5-b9c5-4461-bb3d-97471f12fe0a",
   "metadata": {},
   "outputs": [
    {
     "name": "stdout",
     "output_type": "stream",
     "text": [
      "                      precision    recall  f1-score   support\n",
      "\n",
      "no-recurrence-events       0.72      0.78      0.75        37\n",
      "   recurrence-events       0.56      0.48      0.51        21\n",
      "\n",
      "            accuracy                           0.67        58\n",
      "           macro avg       0.64      0.63      0.63        58\n",
      "        weighted avg       0.66      0.67      0.67        58\n",
      "\n"
     ]
    }
   ],
   "source": [
    "model = LogisticRegression(max_iter=2000)\n",
    "model.fit(X_train_smt,y_train_smt)\n",
    "y_pred_smt = model.predict(X_test)\n",
    "\n",
    "report_smt = classification_report(y_test,y_pred_smt)\n",
    "print(report_smt)"
   ]
  },
  {
   "cell_type": "code",
   "execution_count": null,
   "id": "07e0deed-e9de-4c48-9a24-86d8a174ee8d",
   "metadata": {},
   "outputs": [],
   "source": []
  }
 ],
 "metadata": {
  "kernelspec": {
   "display_name": "Python 3 (ipykernel)",
   "language": "python",
   "name": "python3"
  },
  "language_info": {
   "codemirror_mode": {
    "name": "ipython",
    "version": 3
   },
   "file_extension": ".py",
   "mimetype": "text/x-python",
   "name": "python",
   "nbconvert_exporter": "python",
   "pygments_lexer": "ipython3",
   "version": "3.12.7"
  }
 },
 "nbformat": 4,
 "nbformat_minor": 5
}
